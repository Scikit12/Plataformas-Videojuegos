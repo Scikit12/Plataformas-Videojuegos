{
 "cells": [
  {
   "cell_type": "markdown",
   "metadata": {},
   "source": [
    "# <font color='#0174BE'>ICE: Detrás de la Pantalla - Desglose Analítico del Mundo del Gaming"
   ]
  },
  {
   "cell_type": "markdown",
   "metadata": {},
   "source": [
    "__Objetivo del Proyecto:__\n",
    "\n",
    "El objetivo central de este proyecto ha sido extraer insights significativos a partir de los datos recopilados por ICE a lo largo de los años. Desde el análisis de tendencias de ventas hasta la correlación entre reseñas y el rendimiento comercial, cada aspecto ha sido meticulosamente examinado para proporcionar una visión integral del panorama de la industria de los videojuegos.\n",
    "\n",
    "\n",
    "\n",
    "## Contenido <a id='back'></a>\n",
    "\n",
    "* [Datos](#1)\n",
    "    * [1.1 Importar librerias](#1.1)\n",
    "    * [1.2 Cargar los datos](#1.2)\n",
    "* [Preparar los datos](#2)\n",
    "    * [2.1 Análisis exploratorio del DataFrmae](#2.1)\n",
    "    * [2.2 Observaciones del análisis explorato](#2.2)\n",
    "    * [2.3 Corregir datos](#2.3)\n",
    "    * [2.4 Conclusiones](#2.4)\n",
    "    * [2.5 Añadir columna \"ventas_totales\"](#2.5)\n",
    "* [Análisis de los datos](#3)\n",
    "    * [3.1 Juegos lanzados en diferentes años. ¿Son significativos los datos de cada período?](#3.1)\n",
    "    * [3.2 Variación de ventas entre plataformas](#3.2)\n",
    "        * [3.2.1 Plataformas que solían ser populares pero que ahora no tienen ventas](#3.2.1)\n",
    "        * [3.2.2 ¿Cuánto tardan generalmente las nuevas plataformas en aparecer y las antiguas en desaparecer?](#3.2.2)\n",
    "    * [3.3 Construcción de un modelo para 2017](#3.3)\n",
    "        * [3.3.1 ¿Qué plataformas son líderes en ventas?](#3.3.1)\n",
    "        * [3.3.2 ¿Cuáles crecen y cuáles se reducen?](#3.3.2)\n",
    "        * [3.3.3 Diagrama de caja para las ventas globales de todos los juegos desglosados por plataforma](#3.3.3) \n",
    "            * [3.3.3.1 ¿Son significativas las diferencias en las ventas? >¿Qué sucede con las ventas promedio en varias plataformas?](#3.3.3.1)\n",
    "         * [3.3.4 Gráfico de dispersión y correlación entre las reseñas y las ventas  -  Solución gráfica y analítica](#3.3.4)\n",
    "         * [3.3.5 Comparación de los mismos juegos entre plataformas](#3.3.5)\n",
    "            * [3.3.5.1 Juegos compartidos por cada plataforma](#3.3.5.1)\n",
    "            * [3.3.5.2 Ventas totales de juegos por cada plataforma y juegos compartidos](#3.3.5.2)\n",
    "         * [3.3.6 Distribución general de los juegos por género. ¿Qué se puede decir de los géneros más rentables? ¿Puedes generalizar acerca de los géneros con ventas altas y bajas?](#3.6)\n",
    "* [Perfil del usuario pónor cada región](#4)\n",
    "* [4.1 Las cinco plataformas principales. Descripción de las variaciones en la cuotas de mercado de una región a otra.](#4.1)\n",
    "    * [4.1.1 Unión Europea](#4.1.1)\n",
    "    * [4.1.2 Norte América](#4.1.2)\n",
    "    * [4.1.3 Japón](#4.1.3)\n",
    "    * [4.1.4 Otras Regiones](#4.1.4)\n",
    "* [4.2 Los cinco géneros principales.](#4.2)\n",
    "    * [4.2.1 Unión Europea](#4.2.1)\n",
    "    * [4.2.2 Norte América](#4.2.2)\n",
    "    * [4.2.3 Japón](#4.2.3)\n",
    "    * [4.2.4 Otras Regiones](#4.2.4)\n",
    "* [4.3 ¿Las clasificaciones ESRB afectan a las ventas en las regiones individuales?](#4.3)\n",
    "    * [4.3.1 Unión Europea](#4.3.1)\n",
    "    * [4.3.2 Norte América](#4.3.2)\n",
    "    * [4.3.3 Japón](#4.3.3)\n",
    "    * [4.3.4 Otras Regiones](#4.3.4)\n",
    "* [5 Prueba de hipótesis](#5)\n",
    "    * [5.1 Las calificaciones promedio de los usuarios para las plataformas Xbox One y PC son las mismas.](#5.1)\n",
    "    * [5.2 Las calificaciones promedio de los usuarios para los géneros de Acción y Deportes son diferentes.](#5.2)\n",
    "* [Conclusiones](#end)"
   ]
  },
  {
   "cell_type": "markdown",
   "metadata": {},
   "source": [
    "## Datos <a id='1'></a>\n",
    "\n",
    "- 1.1 Importar librerias\n",
    "- 1.2 Cargar los datos\n"
   ]
  },
  {
   "cell_type": "markdown",
   "metadata": {},
   "source": [
    "###  Importar librerias<a id='1.2'></a>"
   ]
  },
  {
   "cell_type": "code",
   "execution_count": 1,
   "metadata": {},
   "outputs": [],
   "source": [
    "import pandas as pd\n",
    "import numpy as np\n",
    "from scipy import stats as st\n",
    "import math as mt\n",
    "import matplotlib.pyplot as plt\n",
    "import seaborn as sns\n",
    "import warnings\n",
    "from scipy.stats import ttest_ind\n"
   ]
  },
  {
   "cell_type": "markdown",
   "metadata": {},
   "source": [
    "###  Cargar datos<a id='1.2'></a>"
   ]
  },
  {
   "cell_type": "code",
   "execution_count": 2,
   "metadata": {},
   "outputs": [],
   "source": [
    "games = pd.read_csv(\"/games.csv\")"
   ]
  },
  {
   "cell_type": "markdown",
   "metadata": {},
   "source": [
    "## <font color='#0174BE'> Preparar los datos<a id='2'></a>\n",
    "    \n",
    "[Volver a Contenidos](#back)    \n",
    ">- 2.1 Análisis exploratorio del DataFrame: games\n",
    ">- 2.2 Observaciones del analisis exploratorio\n",
    ">- 2.3 Corregir datos\n",
    ">- 2.4 Verificar la existencia de duplicados y duplicados implícitos.\n",
    ">- 2.5 Añadir columna \"ventas_totales\""
   ]
  },
  {
   "cell_type": "markdown",
   "metadata": {},
   "source": [
    "###  <font color='#0174BE'> Análisis exploratorio del DataFrame: games<a id='2.1'></a>\n",
    "\n",
    "    \n",
    "[Volver a Contenidos](#back)"
   ]
  },
  {
   "cell_type": "code",
   "execution_count": 3,
   "metadata": {},
   "outputs": [
    {
     "name": "stdout",
     "output_type": "stream",
     "text": [
      "<class 'pandas.core.frame.DataFrame'>\n",
      "RangeIndex: 16715 entries, 0 to 16714\n",
      "Data columns (total 11 columns):\n",
      " #   Column           Non-Null Count  Dtype  \n",
      "---  ------           --------------  -----  \n",
      " 0   Name             16713 non-null  object \n",
      " 1   Platform         16715 non-null  object \n",
      " 2   Year_of_Release  16446 non-null  float64\n",
      " 3   Genre            16713 non-null  object \n",
      " 4   NA_sales         16715 non-null  float64\n",
      " 5   EU_sales         16715 non-null  float64\n",
      " 6   JP_sales         16715 non-null  float64\n",
      " 7   Other_sales      16715 non-null  float64\n",
      " 8   Critic_Score     8137 non-null   float64\n",
      " 9   User_Score       10014 non-null  object \n",
      " 10  Rating           9949 non-null   object \n",
      "dtypes: float64(6), object(5)\n",
      "memory usage: 1.4+ MB\n",
      "\n"
     ]
    },
    {
     "data": {
      "text/html": [
       "<div>\n",
       "<style scoped>\n",
       "    .dataframe tbody tr th:only-of-type {\n",
       "        vertical-align: middle;\n",
       "    }\n",
       "\n",
       "    .dataframe tbody tr th {\n",
       "        vertical-align: top;\n",
       "    }\n",
       "\n",
       "    .dataframe thead th {\n",
       "        text-align: right;\n",
       "    }\n",
       "</style>\n",
       "<table border=\"1\" class=\"dataframe\">\n",
       "  <thead>\n",
       "    <tr style=\"text-align: right;\">\n",
       "      <th></th>\n",
       "      <th>Name</th>\n",
       "      <th>Platform</th>\n",
       "      <th>Year_of_Release</th>\n",
       "      <th>Genre</th>\n",
       "      <th>NA_sales</th>\n",
       "      <th>EU_sales</th>\n",
       "      <th>JP_sales</th>\n",
       "      <th>Other_sales</th>\n",
       "      <th>Critic_Score</th>\n",
       "      <th>User_Score</th>\n",
       "      <th>Rating</th>\n",
       "    </tr>\n",
       "  </thead>\n",
       "  <tbody>\n",
       "    <tr>\n",
       "      <th>0</th>\n",
       "      <td>Wii Sports</td>\n",
       "      <td>Wii</td>\n",
       "      <td>2006.0</td>\n",
       "      <td>Sports</td>\n",
       "      <td>41.36</td>\n",
       "      <td>28.96</td>\n",
       "      <td>3.77</td>\n",
       "      <td>8.45</td>\n",
       "      <td>76.0</td>\n",
       "      <td>8</td>\n",
       "      <td>E</td>\n",
       "    </tr>\n",
       "    <tr>\n",
       "      <th>1</th>\n",
       "      <td>Super Mario Bros.</td>\n",
       "      <td>NES</td>\n",
       "      <td>1985.0</td>\n",
       "      <td>Platform</td>\n",
       "      <td>29.08</td>\n",
       "      <td>3.58</td>\n",
       "      <td>6.81</td>\n",
       "      <td>0.77</td>\n",
       "      <td>NaN</td>\n",
       "      <td>NaN</td>\n",
       "      <td>NaN</td>\n",
       "    </tr>\n",
       "    <tr>\n",
       "      <th>2</th>\n",
       "      <td>Mario Kart Wii</td>\n",
       "      <td>Wii</td>\n",
       "      <td>2008.0</td>\n",
       "      <td>Racing</td>\n",
       "      <td>15.68</td>\n",
       "      <td>12.76</td>\n",
       "      <td>3.79</td>\n",
       "      <td>3.29</td>\n",
       "      <td>82.0</td>\n",
       "      <td>8.3</td>\n",
       "      <td>E</td>\n",
       "    </tr>\n",
       "    <tr>\n",
       "      <th>3</th>\n",
       "      <td>Wii Sports Resort</td>\n",
       "      <td>Wii</td>\n",
       "      <td>2009.0</td>\n",
       "      <td>Sports</td>\n",
       "      <td>15.61</td>\n",
       "      <td>10.93</td>\n",
       "      <td>3.28</td>\n",
       "      <td>2.95</td>\n",
       "      <td>80.0</td>\n",
       "      <td>8</td>\n",
       "      <td>E</td>\n",
       "    </tr>\n",
       "    <tr>\n",
       "      <th>4</th>\n",
       "      <td>Pokemon Red/Pokemon Blue</td>\n",
       "      <td>GB</td>\n",
       "      <td>1996.0</td>\n",
       "      <td>Role-Playing</td>\n",
       "      <td>11.27</td>\n",
       "      <td>8.89</td>\n",
       "      <td>10.22</td>\n",
       "      <td>1.00</td>\n",
       "      <td>NaN</td>\n",
       "      <td>NaN</td>\n",
       "      <td>NaN</td>\n",
       "    </tr>\n",
       "  </tbody>\n",
       "</table>\n",
       "</div>"
      ],
      "text/plain": [
       "                       Name Platform  Year_of_Release         Genre  NA_sales  \\\n",
       "0                Wii Sports      Wii           2006.0        Sports     41.36   \n",
       "1         Super Mario Bros.      NES           1985.0      Platform     29.08   \n",
       "2            Mario Kart Wii      Wii           2008.0        Racing     15.68   \n",
       "3         Wii Sports Resort      Wii           2009.0        Sports     15.61   \n",
       "4  Pokemon Red/Pokemon Blue       GB           1996.0  Role-Playing     11.27   \n",
       "\n",
       "   EU_sales  JP_sales  Other_sales  Critic_Score User_Score Rating  \n",
       "0     28.96      3.77         8.45          76.0          8      E  \n",
       "1      3.58      6.81         0.77           NaN        NaN    NaN  \n",
       "2     12.76      3.79         3.29          82.0        8.3      E  \n",
       "3     10.93      3.28         2.95          80.0          8      E  \n",
       "4      8.89     10.22         1.00           NaN        NaN    NaN  "
      ]
     },
     "execution_count": 3,
     "metadata": {},
     "output_type": "execute_result"
    }
   ],
   "source": [
    "# Mostramos la información general del DataFrame.                                               \n",
    "games.info(show_counts = True)\n",
    "print()\n",
    "games.head()"
   ]
  },
  {
   "cell_type": "markdown",
   "metadata": {},
   "source": [
    "### <font color='#0174BE'> Observaciones del analisis exploratorio<a id='2.2'></a>\n",
    "1. El DataFrame tiene 16715 datos y 11 columnas.\n",
    "2. Es necesario convertir el nombre de las columnas a minúsculas.\n",
    "2. Los datos son apropiados para la información proporcionada excepto:\n",
    "    - Year_of_release este debe ser tipo object\n",
    "    - Critic_Score debe ser del tipo int64\n",
    "    - User_score también debe ser tipo float64\n",
    "3. Existe la presencia de valores ausentes:\n",
    "    - Name: 2 ~ 0.011 %\n",
    "    - Year_of_release 269 ~ 1.6 %\n",
    "    - Genre 2 ~ 0.011 %\n",
    "    - Platform: 269 ~ 1.6 %\n",
    "    - Critic_Score: 8578 ~ 51.31 %\n",
    "    - User_score:   6701 ~ 40.08 %\n",
    "    - rating:       6766 ~ 40.47 %\n",
    "4. La columna User_Score tiene la abreviatura TBD (To Be Determinated)\n",
    "5. La mayoría de los vaores ausentes y de la abreviatura TBD se encuentran en juegos cuyas ventas son inferiores a 1."
   ]
  },
  {
   "cell_type": "markdown",
   "metadata": {},
   "source": [
    "### <font color='#0174BE'> Corregir Datos<a id='2.3'></a>\n",
    "    \n",
    "[Volver a Contenidos](#back)    "
   ]
  },
  {
   "cell_type": "code",
   "execution_count": 4,
   "metadata": {
    "scrolled": false
   },
   "outputs": [
    {
     "name": "stdout",
     "output_type": "stream",
     "text": [
      "<class 'pandas.core.frame.DataFrame'>\n",
      "RangeIndex: 16715 entries, 0 to 16714\n",
      "Data columns (total 11 columns):\n",
      " #   Column           Non-Null Count  Dtype  \n",
      "---  ------           --------------  -----  \n",
      " 0   name             16715 non-null  object \n",
      " 1   platform         16715 non-null  object \n",
      " 2   year_of_release  16715 non-null  float64\n",
      " 3   genre            16715 non-null  object \n",
      " 4   na_sales         16715 non-null  float64\n",
      " 5   eu_sales         16715 non-null  float64\n",
      " 6   jp_sales         16715 non-null  float64\n",
      " 7   other_sales      16715 non-null  float64\n",
      " 8   critic_score     8137 non-null   float64\n",
      " 9   user_score       7590 non-null   float64\n",
      " 10  rating           16715 non-null  object \n",
      "dtypes: float64(7), object(4)\n",
      "memory usage: 1.4+ MB\n"
     ]
    }
   ],
   "source": [
    "# Convertir a minúsculas los nombres de las columnas.\n",
    "                                                    \n",
    "games.columns = games.columns.str.lower()\n",
    "\n",
    "\n",
    "\n",
    " \n",
    "#  Criterios para rellenar valores ausentes:\n",
    "\n",
    "#  Parte 1  Por ser del tipo  Object se sustituirán por \"Unkown\" las columnas:\n",
    "                  \n",
    "#                  \"name\" \n",
    "#                  \"genre\"  \n",
    "#                  \"platform\" \n",
    "    \n",
    "#      -  No se harán operaciones numéricas con estas columnas, y lo mejor es mantenerlas como \n",
    "#         objetos para categorizarlas a futuro.\n",
    "\n",
    "\n",
    "#  Rellenar valores ausentes por \"Unknown\"\n",
    "games['name'] = games['name'].fillna(\"Unknown\")\n",
    "games['platform'] = games['platform'].fillna(\"Unknown\")\n",
    "games['genre'] = games['genre'].fillna(\"Unknown\")\n",
    "\n",
    "\n",
    "\n",
    "\n",
    "\n",
    "\n",
    "# Rellenar las columnas:   - year_of_release\n",
    "#                          - user_score\n",
    "#                          - critic_score\n",
    "\n",
    "# con ceros\n",
    "\n",
    "#     -  Reemplazar en la columna user_score \"tbd\" por NaN\n",
    "games['user_score'].replace('tbd', np.nan, inplace=True)\n",
    "\n",
    "\n",
    "#     -  Convertir ambas columnas a float64\n",
    "games['critic_score'] = pd.to_numeric(games['critic_score'], errors='coerce')\n",
    "games['user_score'] = pd.to_numeric(games['user_score'], errors='coerce')\n",
    "\n",
    "#     -  Llenar valores ausentes con 0\n",
    "games['year_of_release'] = games['year_of_release'].fillna(0)\n",
    "\n",
    "# Convertir a enteros \n",
    "games['year_of_release'] = games['year_of_release'].astype(\"int\")\n",
    "\n",
    "\n",
    "\n",
    "\n",
    "\n",
    "\n",
    "# Parte 2  Por ser de tipo numérico se agruparan por:\n",
    "\n",
    "#                         - platform\n",
    "#                         - year_of_release                       \n",
    "\n",
    "#         Se obtendra la mediana por cada plataforma en este rubro y,\n",
    "#         posteriormente se juntará toda esta información nueva.\n",
    "       \n",
    "#      -  En user_score las siglas  \"tbd\"  también se sitituirán \"nan\", ya que, \"tbd\" se usa\n",
    "#         cuando existen menos de 4 calificaciones.\n",
    "        \n",
    "#      -  La mediana es una medida robusta que puede ser menos sensible a valores atípicos  \n",
    "#         que la media, por lo que es una elección prudente en presencia de un número \n",
    "#         considerable de valores ausentes.\n",
    "  \n",
    "# 'Wii' 'NES' 'GB' 'DS' 'X360' 'PS3' 'PS2' 'SNES' 'GBA' 'PS4' '3DS' 'N64'\n",
    "# 'PS' 'XB' 'PC' '2600' 'PSP' 'XOne' 'WiiU' 'GC' 'GEN' 'DC' 'PSV' 'SAT'\n",
    "# 'SCD' 'WS' 'NG' 'TG16' '3DO' 'GG' 'PCFX'\n",
    " \n",
    "\n",
    "    \n",
    "    \n",
    "def calcular_mediana_y_reemplazar_para_plataforma(df, plataforma, columna):\n",
    "    # Filtrar el DataFrame para la plataforma específica\n",
    "    plataforma_df = df[df[\"platform\"] == plataforma]\n",
    "    \n",
    "    # Hacer una copia del DataFrame\n",
    "    plataforma_df = plataforma_df.copy()\n",
    "    \n",
    "    # Calcular la mediana para valores mayores que cero\n",
    "    mediana = plataforma_df.loc[plataforma_df[columna] > 0, columna].median()\n",
    "    \n",
    "    # Reemplazar los valores iguales a cero con la mediana calculada\n",
    "    plataforma_df.loc[plataforma_df[columna] == 0, columna] = mediana\n",
    "    \n",
    "    # Actualizar el DataFrame original con los cambios realizados\n",
    "    df.loc[df[\"platform\"] == plataforma] = plataforma_df\n",
    "    \n",
    "    return df\n",
    "\n",
    "# Ejemplo de uso para cada plataforma\n",
    "plataformas = ['Wii', 'NES', 'GB', 'DS', 'X360', 'PS3', 'PS2', 'SNES', \n",
    "               'GBA', 'PS4', '3DS', 'N64', 'PS', 'XB', 'PC', '2600', \n",
    "               'PSP', 'XOne', 'WiiU', 'GC', 'GEN', 'DC', 'PSV', 'SAT', \n",
    "               'SCD', 'WS', 'NG', 'TG16', '3DO', 'GG', 'PCFX']\n",
    "\n",
    "columnas_a_procesar = [\"year_of_release\"] # Se pueden agregar más columnas si se desea como user_score por ejemplo\n",
    "\n",
    "for plataforma in plataformas:\n",
    "    for columna in columnas_a_procesar:\n",
    "        games = calcular_mediana_y_reemplazar_para_plataforma(games, plataforma, columna)\n",
    "\n",
    "        \n",
    "        \n",
    "# Parte 3  Columna \"rating\" se sustituirá por: \"RP\" \n",
    "#      -  De acuerdo a la ESRB (Guía de clasificaciónes) RP significa \"Aún sin clasificar\"   \n",
    " \n",
    "# Reemplazar valores ausentes por RP\n",
    "games[\"rating\"] = games[\"rating\"].fillna(\"RP\")        \n",
    "   \n",
    "    \n",
    "    \n",
    "    \n",
    "    \n",
    "# Imprimir el DataFrame actualizado\n",
    "\n",
    "\n",
    "games.info(show_counts = True)\n",
    "\n",
    "\n",
    "\n",
    "\n",
    "\n",
    "# Este código presenta el número de datos faltantes por plataforma\n",
    "\n",
    "#isna_counts = {}\n",
    "\n",
    "#for platform in games[\"platform\"].unique():\n",
    "#    platform_df = games[games[\"platform\"] == platform]\n",
    "#    isna_count = platform_df[[\"critic_score\", \"user_score\"]].isna().sum()\n",
    "#    isna_counts[platform] = isna_count\n",
    "\n",
    "# Imprimir los resultados\n",
    "#for platform, count in isna_counts.items():\n",
    "#    print(f\"Plataforma: {platform}, Valores faltantes: {count}\")\n",
    "\n"
   ]
  },
  {
   "cell_type": "markdown",
   "metadata": {},
   "source": [
    "<font color='#0174BE'>__Tabla de valores faltantes en plataformas:__\n",
    "\n",
    "La siguiente tabla presenta los valores faltantes en cada plataforma, como se verá en 3.2 \"*Variación de entas entre plataformas*\" ninguno de estos valores afecta el presente estudio.\n",
    "\n",
    "|Plataforma|Valores faltantes|\n",
    "|----------|-----------------|\n",
    "|NES|98|\n",
    "|GB|98|\n",
    "|SNES|239|\n",
    "|N64|319|\n",
    "|2600|133|\n",
    "|GEN|29|\n",
    "|SAT|173|\n",
    "|SCD|6|\n",
    "|WS|6|\n",
    "|NG|12|\n",
    "|TG16|2|\n",
    "|3DO|3|\n",
    "|GG|1|\n",
    "|PCFX|1|"
   ]
  },
  {
   "cell_type": "markdown",
   "metadata": {},
   "source": [
    "<font color='#0174BE'> __Conclusione sobre la correcición de datos__<a id='2.4'></a>\n",
    "\n",
    "[Volver a Contenidos](#back)    \n",
    "<font color='#000000'>\n",
    "    \n",
    ">**Valores ausentes**\n",
    ">        \n",
    ">__1. Naturaleza Dinámica del Contenido en Línea:__\n",
    "    - Los juegos en línea suelen recibir actualizaciones y expansiones continuas. Los datos  pueden no estar completos si ciertos juegos se lanzaron después de la última actualización del conjunto de datos o si los datos no se han actualizado recientemente.\n",
    ">\n",
    ">__2. Participación Voluntaria de los Usuarios:__\n",
    "    - La información en plataformas en línea a menudo se recopila a través de la participación voluntaria de los usuarios. Algunos usuarios pueden optar por no proporcionar ciertos detalles, como la calificación o la fecha de lanzamiento de un juego.\n",
    ">\n",
    ">__3. Privacidad y Confidencialidad:__\n",
    "    - Los jugadores en línea pueden tener preocupaciones sobre la privacidad y la confidencialidad de ciertos datos. Las empresas pueden optar por no revelar cierta información por respeto a la privacidad de los usuarios.\n",
    ">\n",
    ">__4. Diversidad de Desarrolladores y Juegos:__\n",
    "    - La industria de los juegos en línea es muy diversa, con numerosos desarrolladores y una amplia variedad de juegos. La consistencia en la presentación de datos puede variar entre diferentes desarrolladores y plataformas.\n",
    ">\n",
    ">__5. Falta de Estandarización:__\n",
    "    - La falta de estandarización en la presentación de datos entre diferentes desarrolladores o plataformas puede dar lugar a inconsistencias y valores ausentes.\n",
    ">\n",
    ">__6. Evaluación Subjetiva de Calificaciones y Reseñas:__\n",
    "    - En el caso de calificaciones y reseñas proporcionadas por los usuarios, algunos jugadores pueden optar por no calificar o revisar ciertos juegos."
   ]
  },
  {
   "cell_type": "markdown",
   "metadata": {},
   "source": [
    "### <font color='#0174BE'> Verificar la existencia de duplicados y duplicados implícitos.\n",
    "[Volver a Contenidos](#back)"
   ]
  },
  {
   "cell_type": "code",
   "execution_count": 5,
   "metadata": {},
   "outputs": [
    {
     "name": "stdout",
     "output_type": "stream",
     "text": [
      "Filas totalmente duplicadas:\n",
      "False    16715\n",
      "dtype: int64\n",
      "\n",
      "Nombres de consolas unicas:\n",
      "['Wii' 'NES' 'GB' 'DS' 'X360' 'PS3' 'PS2' 'SNES' 'GBA' 'PS4' '3DS' 'N64'\n",
      " 'PS' 'XB' 'PC' '2600' 'PSP' 'XOne' 'WiiU' 'GC' 'GEN' 'DC' 'PSV' 'SAT'\n",
      " 'SCD' 'WS' 'NG' 'TG16' '3DO' 'GG' 'PCFX']\n",
      "\n",
      "Nombres de juegos duplicados:\n",
      "False    11560\n",
      "True      5155\n",
      "Name: name, dtype: int64\n"
     ]
    }
   ],
   "source": [
    "# Verificamos la existencia de duplicados\n",
    "\n",
    "print(\"Filas totalmente duplicadas:\")\n",
    "print(games.duplicated().value_counts())\n",
    "\n",
    "\n",
    "print()\n",
    "\n",
    "\n",
    "# Duplicados implícitos\n",
    "\n",
    "#     -  Duplicados para las plataformas\n",
    "\n",
    "print(\"Nombres de consolas unicas:\")\n",
    "print(games[\"platform\"].unique())\n",
    "\n",
    "print()\n",
    "\n",
    "#     -  Duplicados para los juegos\n",
    "\n",
    "print(\"Nombres de juegos duplicados:\")\n",
    "print(games[\"name\"].duplicated().value_counts())"
   ]
  },
  {
   "cell_type": "markdown",
   "metadata": {},
   "source": [
    "<font color='#0174BE'> __Comentario:__\n",
    "<font color='#000000'>\n",
    ">- No existen filas duplicadas ni tampoco existen duplicados implícitos.\n",
    ">- En el caso de \"Juegos duplciados\" es válida la existencia de los mismos ya que un mismo juego puede salir en varias plataformas, estos juegos se les conoce como \"Third parties\""
   ]
  },
  {
   "cell_type": "markdown",
   "metadata": {},
   "source": [
    "### <font color='#0174BE'> Añadir columna \"ventas_totales\"<a id='2.5'></a>\n",
    "    \n",
    "[Volver a Contenidos](#back)    "
   ]
  },
  {
   "cell_type": "code",
   "execution_count": 6,
   "metadata": {},
   "outputs": [
    {
     "data": {
      "text/html": [
       "<div>\n",
       "<style scoped>\n",
       "    .dataframe tbody tr th:only-of-type {\n",
       "        vertical-align: middle;\n",
       "    }\n",
       "\n",
       "    .dataframe tbody tr th {\n",
       "        vertical-align: top;\n",
       "    }\n",
       "\n",
       "    .dataframe thead th {\n",
       "        text-align: right;\n",
       "    }\n",
       "</style>\n",
       "<table border=\"1\" class=\"dataframe\">\n",
       "  <thead>\n",
       "    <tr style=\"text-align: right;\">\n",
       "      <th></th>\n",
       "      <th>name</th>\n",
       "      <th>platform</th>\n",
       "      <th>year_of_release</th>\n",
       "      <th>genre</th>\n",
       "      <th>na_sales</th>\n",
       "      <th>eu_sales</th>\n",
       "      <th>jp_sales</th>\n",
       "      <th>other_sales</th>\n",
       "      <th>critic_score</th>\n",
       "      <th>user_score</th>\n",
       "      <th>rating</th>\n",
       "      <th>total_sales</th>\n",
       "    </tr>\n",
       "  </thead>\n",
       "  <tbody>\n",
       "    <tr>\n",
       "      <th>0</th>\n",
       "      <td>Wii Sports</td>\n",
       "      <td>Wii</td>\n",
       "      <td>2006.0</td>\n",
       "      <td>Sports</td>\n",
       "      <td>41.36</td>\n",
       "      <td>28.96</td>\n",
       "      <td>3.77</td>\n",
       "      <td>8.45</td>\n",
       "      <td>76.0</td>\n",
       "      <td>8.0</td>\n",
       "      <td>E</td>\n",
       "      <td>82.54</td>\n",
       "    </tr>\n",
       "    <tr>\n",
       "      <th>1</th>\n",
       "      <td>Super Mario Bros.</td>\n",
       "      <td>NES</td>\n",
       "      <td>1985.0</td>\n",
       "      <td>Platform</td>\n",
       "      <td>29.08</td>\n",
       "      <td>3.58</td>\n",
       "      <td>6.81</td>\n",
       "      <td>0.77</td>\n",
       "      <td>NaN</td>\n",
       "      <td>NaN</td>\n",
       "      <td>RP</td>\n",
       "      <td>40.24</td>\n",
       "    </tr>\n",
       "    <tr>\n",
       "      <th>2</th>\n",
       "      <td>Mario Kart Wii</td>\n",
       "      <td>Wii</td>\n",
       "      <td>2008.0</td>\n",
       "      <td>Racing</td>\n",
       "      <td>15.68</td>\n",
       "      <td>12.76</td>\n",
       "      <td>3.79</td>\n",
       "      <td>3.29</td>\n",
       "      <td>82.0</td>\n",
       "      <td>8.3</td>\n",
       "      <td>E</td>\n",
       "      <td>35.52</td>\n",
       "    </tr>\n",
       "    <tr>\n",
       "      <th>3</th>\n",
       "      <td>Wii Sports Resort</td>\n",
       "      <td>Wii</td>\n",
       "      <td>2009.0</td>\n",
       "      <td>Sports</td>\n",
       "      <td>15.61</td>\n",
       "      <td>10.93</td>\n",
       "      <td>3.28</td>\n",
       "      <td>2.95</td>\n",
       "      <td>80.0</td>\n",
       "      <td>8.0</td>\n",
       "      <td>E</td>\n",
       "      <td>32.77</td>\n",
       "    </tr>\n",
       "    <tr>\n",
       "      <th>4</th>\n",
       "      <td>Pokemon Red/Pokemon Blue</td>\n",
       "      <td>GB</td>\n",
       "      <td>1996.0</td>\n",
       "      <td>Role-Playing</td>\n",
       "      <td>11.27</td>\n",
       "      <td>8.89</td>\n",
       "      <td>10.22</td>\n",
       "      <td>1.00</td>\n",
       "      <td>NaN</td>\n",
       "      <td>NaN</td>\n",
       "      <td>RP</td>\n",
       "      <td>31.38</td>\n",
       "    </tr>\n",
       "  </tbody>\n",
       "</table>\n",
       "</div>"
      ],
      "text/plain": [
       "                       name platform  year_of_release         genre  na_sales  \\\n",
       "0                Wii Sports      Wii           2006.0        Sports     41.36   \n",
       "1         Super Mario Bros.      NES           1985.0      Platform     29.08   \n",
       "2            Mario Kart Wii      Wii           2008.0        Racing     15.68   \n",
       "3         Wii Sports Resort      Wii           2009.0        Sports     15.61   \n",
       "4  Pokemon Red/Pokemon Blue       GB           1996.0  Role-Playing     11.27   \n",
       "\n",
       "   eu_sales  jp_sales  other_sales  critic_score  user_score rating  \\\n",
       "0     28.96      3.77         8.45          76.0         8.0      E   \n",
       "1      3.58      6.81         0.77           NaN         NaN     RP   \n",
       "2     12.76      3.79         3.29          82.0         8.3      E   \n",
       "3     10.93      3.28         2.95          80.0         8.0      E   \n",
       "4      8.89     10.22         1.00           NaN         NaN     RP   \n",
       "\n",
       "   total_sales  \n",
       "0        82.54  \n",
       "1        40.24  \n",
       "2        35.52  \n",
       "3        32.77  \n",
       "4        31.38  "
      ]
     },
     "execution_count": 6,
     "metadata": {},
     "output_type": "execute_result"
    }
   ],
   "source": [
    "# Sumar las ventas de las 4 regiones\n",
    "\n",
    "games[\"total_sales\"] = (\n",
    "                      games[\"na_sales\"] \n",
    "                    + games[\"eu_sales\"] \n",
    "                    + games[\"jp_sales\"] \n",
    "                    + games[\"other_sales\"]\n",
    "                      )\n",
    "\n",
    "#Verificamos\n",
    "games.head()"
   ]
  },
  {
   "cell_type": "markdown",
   "metadata": {},
   "source": [
    "## <font color='#FFB000'> Análisis de los datos<a id='3'></a>\n",
    "    \n",
    "[Volver a Contenidos](#back)    \n",
    ">- 3.1 Juegos lanzados en diferentes años. ¿Son significativos los datos de cada período?\n",
    ">- 3.2 Variación de ventas entre plataformas\n",
    ">    - 3.2.1 Plataformas que solían ser populares pero que ahora no tienen ventas\n",
    ">    - 3.2.2 ¿Cuánto tardan generalmente las nuevas plataformas en aparecer y las antiguas en desaparecer?\n",
    ">- 3.3 Construcción de un modelo para 2017\n",
    ">    - 3.3.1 ¿Qué plataformas son líderes en ventas?\n",
    ">    - 3.3.2 ¿Cuáles crecen y cuáles se reducen?\n",
    ">    - 3.3.3 Diagrama de caja para las ventas globales de todos los juegos desglosados por plataforma, \n",
    ">       - 3.3.3.1 ¿Son significativas las diferencias en las ventas? >¿Qué sucede con las ventas promedio en varias plataformas? \n",
    ">    - 3.3.4 Gráfico de dispersión y correlación entre las reseñas y las ventas  -  Solución gráfica y analítica\n",
    ">    - 3.3.5 Comparación de los mismos juegos entre plataformas\n",
    ">       - 3.3.5.1 Juegos compartidos por cada plataforma\n",
    ">       - 3.3.5.2 Ventas totales de juegos por cada plataforma y juegos compartidos\n",
    ">    - 3.3.6 Distribución general de los juegos por género. ¿Qué se puede decir de los géneros más rentables? ¿Puedes generalizar acerca de los géneros con ventas altas y bajas?"
   ]
  },
  {
   "cell_type": "markdown",
   "metadata": {},
   "source": [
    "### <font color='#FFB000'> Juegos que fueron lanzados en diferentes años. ¿Son significativos los datos de cada período?<a id='3.1'></a>\n",
    "    \n",
    "[Volver a Contenidos](#back)    "
   ]
  },
  {
   "cell_type": "code",
   "execution_count": 7,
   "metadata": {
    "scrolled": false
   },
   "outputs": [
    {
     "data": {
      "image/png": "[encoded data removed]",
      "text/plain": [
       "<Figure size 504x432 with 1 Axes>"
      ]
     },
     "metadata": {
      "needs_background": "light"
     },
     "output_type": "display_data"
    }
   ],
   "source": [
    " \n",
    "# EL presente gráfico de barras representa la cantidad de juegos \n",
    "# lanzados cada año desde 1980 hasta 2016\n",
    " \n",
    "\n",
    "# Filtrar los datos para incluir solo los años de lanzamiento mayores que 0\n",
    "filtered_data = games[games['year_of_release'] > 0]\n",
    "\n",
    "# Obtener los datos\n",
    "data_counts = filtered_data[\"year_of_release\"].value_counts().sort_index()\n",
    "years = data_counts.index\n",
    "counts = data_counts.values\n",
    "\n",
    "# Crear la gráfica de barras\n",
    "plt.figure(figsize=(7, 6))\n",
    "\n",
    "# Utilizar Seaborn para aplicar el estilo \"whitegrid\"\n",
    "with sns.axes_style(\"whitegrid\"):\n",
    "    plt.bar(\n",
    "        x=years,\n",
    "        height=counts,\n",
    "        color=\"#AAD7D9\",\n",
    "        edgecolor='black'\n",
    "\n",
    "    )\n",
    "\n",
    "plt.xlabel('Año de Lanzamiento')\n",
    "plt.ylabel('Número de Juegos Lanzados')\n",
    "plt.title('Número de Juegos Lanzados por Año (años de lanzamiento > 0)')\n",
    "plt.xticks(\n",
    "    rotation=90,\n",
    "    ha='right'\n",
    ")\n",
    "plt.tight_layout()\n",
    "plt.show()\n"
   ]
  },
  {
   "cell_type": "code",
   "execution_count": 8,
   "metadata": {},
   "outputs": [
    {
     "data": {
      "image/png": "[encoded data removed]",
      "text/plain": [
       "<Figure size 648x432 with 1 Axes>"
      ]
     },
     "metadata": {
      "needs_background": "light"
     },
     "output_type": "display_data"
    }
   ],
   "source": [
    "''' \n",
    "Categorizando las consolas por generación y su representación \n",
    "en un histograma.\n",
    "        \n",
    "''' \n",
    "\n",
    "# Crear un diccionario que mapea cada consola a su generación\n",
    "#      -  PC al ser una consola multigenerción se le asignó el valor 0\n",
    "\n",
    "generations_mapping = {\n",
    "    '2600': 4,\n",
    "    'NES': 4,\n",
    "    'GB': 4,\n",
    "    'SNES': 4,\n",
    "    'PS': 5,\n",
    "    'PS1': 5,\n",
    "    'PSX': 5,\n",
    "    'WS': 6,\n",
    "    'GG': 6,\n",
    "    'DS': 7,\n",
    "    'X360': 7,\n",
    "    'PS3': 7,\n",
    "    'PS2': 6,\n",
    "    'Wii': 7,\n",
    "    'PS4': 8,\n",
    "    '3DS': 8,\n",
    "    'N64': 5,\n",
    "    'PSP': 7,\n",
    "    'XOne': 8,\n",
    "    'WiiU': 8,\n",
    "    'GC': 6,\n",
    "    'GEN': 4,\n",
    "    'DC': 6,\n",
    "    'PSV': 8,\n",
    "    'SAT': 5,\n",
    "    'SCD': 4,\n",
    "    'WS': 6,\n",
    "    'NG': 5,\n",
    "    'TG16': 4,\n",
    "    '3DO': 5,\n",
    "    'PCFX': 5,\n",
    "    'PC': 0}\n",
    "\n",
    "# Crear una nueva columna llamada 'Generation' usando el mapeo\n",
    "games['generation'] = games['platform'].map(generations_mapping)\n",
    "\n",
    "\n",
    "# Crear un histograma de las generaciones\n",
    "plt.figure(figsize=(9, 6))\n",
    "plt.hist(\n",
    "         games['generation'], \n",
    "         bins=range(0, 10), \n",
    "         align='left', \n",
    "         rwidth=1, \n",
    "         color='#AAD7D9', \n",
    "         edgecolor='black'\n",
    "         )\n",
    "\n",
    "# Configurar el gráfico\n",
    "plt.title('Distribución de Juegos por Generación')\n",
    "plt.xlabel('Generación')\n",
    "plt.ylabel('Cantidad de Juegos')\n",
    "plt.xticks(range(0, 10))\n",
    "plt.grid(\n",
    "         axis='y', \n",
    "         linestyle='--', \n",
    "         alpha=0.5\n",
    "        )"
   ]
  },
  {
   "cell_type": "markdown",
   "metadata": {},
   "source": [
    "<font color='#FFB000'> **Comentario:**\n",
    "<font color='#000000'>\n",
    "\n",
    ">La séptima generación de consolas fue la que más demanda de videojuegos tuvo, alcanzando su pico más alto en los años 2008 y 2009.\n",
    ">\n",
    ">La séptima generación de consolas de videojuegos, que abarca aproximadamente desde mediados de la década de 2000 hasta principios de la década de 2010, fue una época significativa en la evolución de la industria. \n",
    ">\n",
    ">Séptima Generación (aprox. 2005-2013):\n",
    ">\n",
    ">__Consolas Destacadas:__\n",
    ">- Xbox 360 (Microsoft)\n",
    ">- PlayStation 3 (Sony)\n",
    ">- Wii (Nintendo)\n",
    ">\n",
    ">\n",
    ">__Innovaciones Destacadas:__\n",
    ">- Mayor énfasis en las capacidades en línea y el juego multijugador en red.\n",
    ">- Mayor potencia gráfica y resolución HD en comparación con generaciones anteriores.\n",
    ">- Introducción de sensores de movimiento (Wii Remote, Kinect, PlayStation Move).\n",
    ">\n",
    ">__Cambio en el Paradigma del Juego:__\n",
    ">\n",
    ">- La Wii atrajo a un público más amplio con su enfoque en la jugabilidad innovadora y accesible.\n",
    ">- Aumento en la popularidad de los juegos en línea y la >distribución digital.\n",
    ">\n",
    ">__Catálogo de Juegos Influyente:__\n",
    ">- Títulos destacados como \"Grand Theft Auto IV\", \"The Elder Scrolls V: Skyrim\", \"Uncharted 2: Among Thieves\", y muchos más.\n",
    ">\n",
    ">__Éxito Comercial:__\n",
    ">- La séptima generación experimentó un gran éxito comercial, con una base de usuarios significativa en todo el mundo.\n",
    ">\n",
    ">__Comparación con la Sexta Generación:__\n",
    ">\n",
    ">- Aumento significativo en la potencia de hardware y capacidades gráficas.\n",
    ">- Mayor enfoque en la conectividad en línea y el juego en red.\n",
    ">- Expansión del público objetivo con consolas como la Wii y su controlador de movimiento.\n",
    ">\n",
    ">__Comparación con la Octava Generación:__\n",
    ">\n",
    ">- Continuación de la tendencia hacia gráficos más avanzados y capacidades multimedia.\n",
    ">- Mayor integración de servicios en línea y plataformas de distribución digital.\n",
    ">- Introducción de nuevas consolas, como la PlayStation 4 y la Xbox One, con enfoque en la integración multimedia y social.\n",
    ">\n",
    ">\n",
    ">En resumen, la séptima generación fue testigo de avances tecnológicos significativos, la expansión de la audiencia y la consolidación de las experiencias en línea. Estas características continuaron evolucionando en la octava generación, con un enfoque más sofisticado en la conectividad en línea y la integración multimedia. La evolución de la industria de los videojuegos a lo largo de estas generaciones ha estado marcada por cambios tecnológicos, innovaciones en el diseño de juegos y la creciente importancia de la conectividad en línea."
   ]
  },
  {
   "cell_type": "markdown",
   "metadata": {},
   "source": [
    "### <font color='#FFB000'> Variación de ventas entre plataformas<a id='3.2'></a>\n",
    "    \n",
    "[Volver a Contenidos](#back)    "
   ]
  },
  {
   "cell_type": "code",
   "execution_count": 9,
   "metadata": {
    "scrolled": false
   },
   "outputs": [
    {
     "data": {
      "image/png": "[encoded data removed]",
      "text/plain": [
       "<Figure size 648x720 with 1 Axes>"
      ]
     },
     "metadata": {
      "needs_background": "light"
     },
     "output_type": "display_data"
    }
   ],
   "source": [
    "# Filtrar el DataFrame por plataforma y Ventas totales\n",
    "# Ordenar del más al menos vendido\n",
    "# Mostrar solo las 10 más vendidas\n",
    "\n",
    "\n",
    "\n",
    "#  pts = Platform Total Sales\n",
    "\n",
    "pts = games.groupby(\"platform\")[\"total_sales\"].sum()\n",
    "pts = pts.sort_values(ascending = False)\n",
    "pts = pts.head(32)\n",
    "\n",
    "\n",
    "\n",
    "# Gráfico de barras para los datos de ventas totales por plataforma\n",
    "plt.figure(figsize=(9, 10))\n",
    "sns.barplot(\n",
    "            x=pts.values, \n",
    "            y=pts.index, \n",
    "            palette='viridis'\n",
    "           )\n",
    "\n",
    "# Configurar el título y etiquetas\n",
    "plt.title('Ventas Totales por Plataforma')\n",
    "plt.xlabel('Ventas Totales (en millones)')\n",
    "plt.ylabel('Plataforma')\n",
    "\n",
    "# Mostrar el gráfico\n",
    "plt.show()\n",
    "\n"
   ]
  },
  {
   "cell_type": "markdown",
   "metadata": {},
   "source": [
    " <font color='#FFB000'> __Comentarios:__\n",
    "<font color='#000000'>\n",
    "    \n",
    ">Plataformas Top:\n",
    ">\n",
    ">- PS2    \n",
    ">- X360     \n",
    ">- PS3      \n",
    ">- Wii      \n",
    ">- DS       \n",
    ">- PS    \n",
    ">\n",
    ">Esta subsección aborda la variación de ventas entre plataformas, enfocándose en identificar y analizar aquellas con las mayores ventas totales. La construcción de una distribución basada en datos anuales proporcionará una representación visual de las tendencias a lo largo del tiempo, lo que puede ayudar a identificar patrones y cambios significativos."
   ]
  },
  {
   "cell_type": "markdown",
   "metadata": {},
   "source": [
    "#### <font color='#FFB000'> Plataformas que solían ser populares pero que ahora no tienen ventas.<a id='3.2.1'></a>\n",
    "\n",
    "[Volver a Contenidos](#back)    \n",
    ">A partir de este punto solo nos enfocaremos en las tres marcas más destacadas:\n",
    ">- Xbox \n",
    ">- Playstation\n",
    ">- Nintendo\n",
    ">\n",
    ">Ya que, Incluir todas las plataformas podría aumentar la complejidad del análisis y dificultar la interpretación de los resultados.\n"
   ]
  },
  {
   "cell_type": "code",
   "execution_count": 10,
   "metadata": {},
   "outputs": [
    {
     "name": "stdout",
     "output_type": "stream",
     "text": [
      "El año más antiguo es: 1985.0\n",
      "El año más reciente es: 2016.0\n"
     ]
    }
   ],
   "source": [
    "# Filtrar el DataFrame por las plataformas top\n",
    "\n",
    "# Crear máscara\n",
    "plataformas_top = [\n",
    "                   'PS2', \n",
    "                   'X360', \n",
    "                   'PS3', \n",
    "                   'Wii', \n",
    "                   'DS', \n",
    "                   'PS'\n",
    "                  ]\n",
    "df_top = games[games['platform'].isin(plataformas_top)]\n",
    "\n",
    "\n",
    "\n",
    "#    Filtrar valores inusuales en el año de lanzamiento, recordemos que al inicio \n",
    "#       \"year_of_release\" tenía 269 valores nulos, los cuales se sustituyeron por 0\n",
    "\n",
    "df_top =df_top[df_top['year_of_release'] > 0]\n",
    "\n",
    "\n",
    "# Revisar que los años de vida sean los correctos\n",
    "\n",
    "print(\"El año más antiguo es:\",\n",
    "      df_top[\"year_of_release\"].min())\n",
    "\n",
    "print(\"El año más reciente es:\",\n",
    "      df_top[\"year_of_release\"].max())"
   ]
  },
  {
   "cell_type": "code",
   "execution_count": 11,
   "metadata": {},
   "outputs": [
    {
     "data": {
      "text/html": [
       "<div>\n",
       "<style scoped>\n",
       "    .dataframe tbody tr th:only-of-type {\n",
       "        vertical-align: middle;\n",
       "    }\n",
       "\n",
       "    .dataframe tbody tr th {\n",
       "        vertical-align: top;\n",
       "    }\n",
       "\n",
       "    .dataframe thead th {\n",
       "        text-align: right;\n",
       "    }\n",
       "</style>\n",
       "<table border=\"1\" class=\"dataframe\">\n",
       "  <thead>\n",
       "    <tr style=\"text-align: right;\">\n",
       "      <th></th>\n",
       "      <th>name</th>\n",
       "      <th>platform</th>\n",
       "    </tr>\n",
       "  </thead>\n",
       "  <tbody>\n",
       "    <tr>\n",
       "      <th>15957</th>\n",
       "      <td>Strongest Tokyo University Shogi DS</td>\n",
       "      <td>DS</td>\n",
       "    </tr>\n",
       "  </tbody>\n",
       "</table>\n",
       "</div>"
      ],
      "text/plain": [
       "                                      name platform\n",
       "15957  Strongest Tokyo University Shogi DS       DS"
      ]
     },
     "execution_count": 11,
     "metadata": {},
     "output_type": "execute_result"
    }
   ],
   "source": [
    "# Averiguar qué juego salio en 1985 y en qué plataforma\n",
    "\n",
    "a = df_top.query(\"year_of_release == 1985\")[{\"platform\",\"name\"}]\n",
    "a"
   ]
  },
  {
   "cell_type": "markdown",
   "metadata": {},
   "source": [
    "<font color='#FFB000'> **Comentario:**\n",
    "<font color='#000000'>\n",
    ">Strongest Tokyo University Shogi DS salió a la venta en 2007"
   ]
  },
  {
   "cell_type": "code",
   "execution_count": 12,
   "metadata": {
    "scrolled": true
   },
   "outputs": [
    {
     "name": "stdout",
     "output_type": "stream",
     "text": [
      "El año más antiguo es: 1994.0\n",
      "El año más reciente es: 2016.0\n"
     ]
    }
   ],
   "source": [
    "# Arreglar este problema en el DF original y en df_top\n",
    "\n",
    "\n",
    "#      En el DataFrame original\n",
    "\n",
    "games.loc[15957, \"year_of_release\"] = 2007\n",
    "\n",
    "#      En df_top\n",
    "\n",
    "df_top.loc[15957, \"year_of_release\"] = 2007\n",
    "\n",
    "\n",
    "#      Revisar que los años de vida sean los correctos\n",
    "\n",
    "print(\"El año más antiguo es:\",df_top[\"year_of_release\"].min())\n",
    "print(\"El año más reciente es:\",df_top[\"year_of_release\"].max())\n"
   ]
  },
  {
   "cell_type": "code",
   "execution_count": 13,
   "metadata": {
    "scrolled": false
   },
   "outputs": [
    {
     "data": {
      "image/png": "[encoded data removed]",
      "text/plain": [
       "<Figure size 720x216 with 1 Axes>"
      ]
     },
     "metadata": {
      "needs_background": "light"
     },
     "output_type": "display_data"
    }
   ],
   "source": [
    " \n",
    "# Crear una lista de plataformas y sus años de inicio y fin\n",
    "platforms = [\n",
    "             \"PS2\", \n",
    "             \"PS3\", \n",
    "             \"X360\",\n",
    "             \"Wii\",\n",
    "             \"DS\",\n",
    "             \"PS\"\n",
    "            ]\n",
    "\n",
    "life = {\n",
    "         \"PS2\": (2000, 2011),\n",
    "        \"X360\": (2005, 2016),\n",
    "         \"PS3\": (2006, 2016),\n",
    "         \"Wii\": (2006,2016),\n",
    "         \"DS\" : (2004,2013),\n",
    "         \"PS\" : (1994,2003)\n",
    "}\n",
    "\n",
    "\n",
    "# Crear un gráfico de segmentos de línea para representar la duración de vida de cada plataforma\n",
    "plt.figure(figsize=(10, 3))\n",
    "for platform in platforms:\n",
    "    start, end = life[platform]\n",
    "    plt.plot(\n",
    "             [start, end], \n",
    "             [platform, platform], \n",
    "             linewidth=4, \n",
    "             label=platform\n",
    "            )\n",
    "\n",
    "    \n",
    "# Estilizar el gráfico\n",
    "plt.title('Duración de Vida de Plataformas')\n",
    "plt.xlabel('Año')\n",
    "plt.yticks([])  # Ocultar etiquetas del eje y (plataformas)\n",
    "plt.xticks(range(1990, 2030, 5))\n",
    "plt.legend()\n",
    "current_year = 2024  # Año actual\n",
    "plt.axvline(\n",
    "            x=current_year, \n",
    "            color='green', \n",
    "            linestyle='--', \n",
    "            label=f'Año Actual: {current_year}'\n",
    "           )\n",
    "\n",
    "# Mostrar el gráfico\n",
    "plt.show()\n"
   ]
  },
  {
   "cell_type": "markdown",
   "metadata": {},
   "source": [
    "<font color='#FFB000'> __Comentario:__\n",
    "<font color='#000000'>\n",
    ">- Podemos observar que en promedio cada plataforma tiene una vida de 10 años.\n",
    ">- Número de entradas en el DataFramae 9,962, esto representa 55.41% del total de entradas\n",
    ">- Estas 5 plataformas son las más populares y ninguna de ellas hoy en día tiene ventas"
   ]
  },
  {
   "cell_type": "markdown",
   "metadata": {},
   "source": [
    "#### <font color='#FFB000'> ¿Cuánto tardan generalmente las nuevas plataformas en aparecer y las antiguas en desaparecer?<a id='3.2.2'></a>\n",
    "    \n",
    "[Volver a Contenidos](#back)    "
   ]
  },
  {
   "cell_type": "code",
   "execution_count": 14,
   "metadata": {
    "scrolled": false
   },
   "outputs": [
    {
     "data": {
      "image/png": "[encoded data removed]",
      "text/plain": [
       "<Figure size 504x360 with 1 Axes>"
      ]
     },
     "metadata": {
      "needs_background": "light"
     },
     "output_type": "display_data"
    }
   ],
   "source": [
    "# ¿Cuánto tardan generalmente las nuevas plataformas en aparecer?\n",
    "\n",
    "\n",
    "\n",
    "#  Marcas de plataformas Top:\n",
    "#                             - Playstation\n",
    "#                             - Xbox\n",
    "#                             - Nintendo\n",
    "\n",
    "marcas_top = ['PS',\n",
    "              'PS2',\n",
    "              'PS3',\n",
    "              'PS4',\n",
    "              'XB',\n",
    "              'X360',\n",
    "              'XOne',\n",
    "              'N64',\n",
    "              'GC',\n",
    "              'Wii',\n",
    "              'WiiU',\n",
    "              'GBA',\n",
    "              'DS',\n",
    "              '3DS'\n",
    "             ]\n",
    "brand_top = games[games['platform'].isin(marcas_top)]\n",
    "\n",
    "\n",
    "\n",
    "#   Filtrar valores inusuales en el año de lanzamiento, recordemos que al inicio \n",
    "#   \"year_of_release\" tenía 269 valores nulos, los cuales se sustituyeron por 0\n",
    "\n",
    "brand_top =brand_top[brand_top['year_of_release'] > 0]\n",
    "\n",
    "\n",
    "\n",
    "\n",
    "#   Playstation   -   3  cambios de generación \n",
    "PS1 = brand_top.query(\"platform == 'PS'\")[\"year_of_release\"].min() \n",
    "PS4 = brand_top.query(\"platform == 'PS4'\")[\"year_of_release\"].min() \n",
    "\n",
    "playstation_avg = (PS4-PS1)/3\n",
    "\n",
    "\n",
    "\n",
    "#    Xbox   -   2  cambios de generación\n",
    "XB = brand_top.query(\"platform == 'XB'\")[\"year_of_release\"].min() \n",
    "XOne = brand_top.query(\"platform == 'XOne'\")[\"year_of_release\"].min() \n",
    "\n",
    "xbox_avg = (XOne - XB)/2\n",
    "\n",
    "\n",
    "\n",
    "\n",
    "#    Nintendo  -   3 cambios de generación\n",
    "N64 = brand_top.query(\"platform == 'N64'\")[\"year_of_release\"].min() \n",
    "WiiU = brand_top.query(\"platform == 'WiiU'\")[\"year_of_release\"].min() \n",
    "\n",
    "nintendo_avg = (WiiU - N64)/3\n",
    "\n",
    "\n",
    "\n",
    "#    Nintendo Portátiles  -  2 cambios de generación\n",
    "GBA = brand_top.query(\"platform == 'GBA'\")[\"year_of_release\"].min() \n",
    "DS3 = brand_top.query(\"platform == '3DS'\")[\"year_of_release\"].min()\n",
    "\n",
    "\n",
    "nintendo_port_avg = (DS3-GBA)/2\n",
    "\n",
    "\n",
    "\n",
    "\n",
    "# Promedio general\n",
    "\n",
    "avg = (playstation_avg\n",
    "      + xbox_avg\n",
    "      + nintendo_avg\n",
    "      + nintendo_port_avg\n",
    "      )/4\n",
    "\n",
    "\n",
    "\n",
    "\n",
    "# Mostrar resultados\n",
    "\n",
    "# Datos para las marcas y sus duraciones promedio\n",
    "marcas = [\n",
    "         'PlayStation', \n",
    "          'Xbox', \n",
    "          'General', \n",
    "          'Nintendo', \n",
    "          'Nintendo Portátiles'\n",
    "         ]\n",
    "\n",
    "duraciones_promedio = [\n",
    "                       playstation_avg, \n",
    "                       xbox_avg, \n",
    "                       avg, \n",
    "                       nintendo_avg, \n",
    "                       nintendo_port_avg\n",
    "                      ]\n",
    "\n",
    "\n",
    "# Colores específicos para cada marca usando \"viridis\"\n",
    "colores = sns.color_palette(\n",
    "                           \"viridis\", \n",
    "                            n_colors=len(marcas)\n",
    "                           )\n",
    "\n",
    "# Crear un gráfico de barras horizontal con Seaborn\n",
    "plt.figure(figsize=(7, 5))\n",
    "sns.barplot(\n",
    "            x=duraciones_promedio, \n",
    "            y=marcas, \n",
    "            palette=colores\n",
    "           )\n",
    "\n",
    "plt.title('Duración Promedio entre Cambios de Generación por Marca')\n",
    "plt.xlabel('Duración Promedio (años)')\n",
    "plt.ylabel('Marca')\n",
    "\n",
    "# Mostrar el gráfico\n",
    "plt.show()\n"
   ]
  },
  {
   "cell_type": "markdown",
   "metadata": {},
   "source": [
    "<font color='#FFB000'>__Comentario:__\n",
    "<font color='#000000'>\n",
    "\n",
    ">En promedio cada 7 años sale una nueva generación de plataformas"
   ]
  },
  {
   "cell_type": "markdown",
   "metadata": {},
   "source": [
    " ##### <font color='#FFB000'>__¿Cuánto tardan las plataformas en desaparecer?__\n",
    "    \n",
    "[Volver a Contenidos](#back)    "
   ]
  },
  {
   "cell_type": "code",
   "execution_count": 15,
   "metadata": {
    "scrolled": false
   },
   "outputs": [
    {
     "data": {
      "image/png": "[encoded data removed]",
      "text/plain": [
       "<Figure size 648x432 with 1 Axes>"
      ]
     },
     "metadata": {
      "needs_background": "light"
     },
     "output_type": "display_data"
    }
   ],
   "source": [
    "# ¿Cuánto tardan las plataformas en desaparecer?\n",
    "\n",
    "\n",
    "# Retomando de 3.2.1    \n",
    "# df_top = ['PS2', 'X360', 'PS3', 'Wii', 'DS', 'PS']\n",
    "\n",
    "\n",
    "\n",
    "# Obtener el primer y último año de lanzamiento para cada plataforma\n",
    "def calcular_promedio_vida_util(df):\n",
    "    vida_util = (\n",
    "                 df.groupby(\"platform\")['year_of_release'].max() \n",
    "               - df.groupby(\"platform\")['year_of_release'].min()\n",
    "                )\n",
    "    return vida_util\n",
    "\n",
    "\n",
    "\n",
    "# Imprimir el resultado\n",
    "vida_util = calcular_promedio_vida_util(df_top)\n",
    "vida_util = vida_util.sort_values(ascending = False)\n",
    "\n",
    "\n",
    "\n",
    "\n",
    "# Crear un gráfico de barras horizontal con Seaborn y paleta \"viridis\"\n",
    "plt.figure(figsize=(9, 6))\n",
    "sns.barplot(\n",
    "            x=vida_util.values, \n",
    "            y=vida_util.index, \n",
    "            palette='viridis'\n",
    "           )\n",
    "\n",
    "plt.title('Promedio de Vida Útil por Plataforma')\n",
    "plt.xlabel('Promedio de Vida Útil (años)')\n",
    "plt.ylabel('Plataforma')\n",
    "\n",
    "# Mostrar el gráfico\n",
    "plt.show()"
   ]
  },
  {
   "cell_type": "markdown",
   "metadata": {},
   "source": [
    "<font color='#FFB000'>__Comentario:__\n",
    "<font color='#000000'>\n",
    ">- En promedio una plataforma de estas 3 marcas tiene una vida útil de 10 años.\n",
    ">- Dependiendo de la popularidad de una plataforma puede tener una vida más larga.\n",
    ">- Este resultado concuerda con la gráfica del punto 3.2.1 **\"Plataformas que solían ser populares pero que ahora no tienen ventas.\"** "
   ]
  },
  {
   "cell_type": "markdown",
   "metadata": {},
   "source": [
    "### <font color='#FFB000'>Construcción de un modelo para 2017<a id='3.3'></a>\n",
    "\n",
    ">**Criterios**\n",
    ">- Se tomaran datos desde 2011 para las plataformas principales: \n",
    ">    - Playstation con PS4\n",
    ">    - Xbox con XOne \n",
    ">    - Nintendo con WiiU y 3DS\n",
    ">- Dicho criterio abarca solo la última generación.\n",
    ">- Tomar en cuenta que 2015 sería el 2do año para la última generación.\n",
    "\n",
    "[Volver a Contenidos](#back)    "
   ]
  },
  {
   "cell_type": "code",
   "execution_count": 16,
   "metadata": {},
   "outputs": [],
   "source": [
    "# Filtrado de datos desde el 2011\n",
    "\n",
    "\n",
    "\n",
    "#     Filtrar datos para plataformas de estudio\n",
    "mascara =[\n",
    "          'Wii', 'NES', 'GB', 'DS', 'X360', 'PS3', 'PS2', 'SNES', \n",
    "          'GBA', 'PS4', '3DS', 'N64', 'PS', 'XB', 'PC', '2600', \n",
    "          'PSP', 'XOne', 'WiiU', 'GC', 'GEN', 'DC', 'PSV', 'SAT', \n",
    "          'SCD', 'WS', 'NG', 'TG16', '3DO', 'GG', 'PCFX'\n",
    "          ]\n",
    "nuevo_df = games[games['platform'].isin(mascara)]\n",
    "\n",
    "\n",
    "#     Filtrar datos a partir de 2011\n",
    "nuevo_df =nuevo_df[nuevo_df['year_of_release'] > 2010]\n",
    "\n"
   ]
  },
  {
   "cell_type": "markdown",
   "metadata": {},
   "source": [
    "#### <font color='#FFB000'>¿Qué plataformas son líderes en ventas?<a id='3.3.1'></a>\n",
    "    \n",
    "[Volver a Contenidos](#back)    "
   ]
  },
  {
   "cell_type": "code",
   "execution_count": 17,
   "metadata": {
    "scrolled": false
   },
   "outputs": [
    {
     "data": {
      "image/png": "[encoded data removed]",
      "text/plain": [
       "<Figure size 648x432 with 1 Axes>"
      ]
     },
     "metadata": {
      "needs_background": "light"
     },
     "output_type": "display_data"
    }
   ],
   "source": [
    "# Identificar Plataformas Líderes:\n",
    "\n",
    "# - Analizar las ventas globales por plataforma y determina cuáles son \n",
    "#   plataformas las líderes.\n",
    "# - Identifica plataformas que están experimentando un crecimiento y \n",
    "#   las que muestran una disminución en las ventas.\n",
    "\n",
    "\n",
    "\n",
    "\n",
    "\n",
    "# - Analizar las ventas globales por plataforma y determina cuáles son \n",
    "#   plataformas las líderes.\n",
    "\n",
    "global_sales = nuevo_df.groupby(\"platform\")[\"total_sales\"].sum()\n",
    "global_sales = global_sales.sort_values(ascending = False)\n",
    "global_sales\n",
    "\n",
    "\n",
    "# Crear un gráfico de barras para los datos de ventas totales por plataforma\n",
    "plt.figure(figsize=(9, 6))\n",
    "sns.barplot(\n",
    "            x=global_sales.values, \n",
    "            y=global_sales.index, \n",
    "            palette='viridis'\n",
    "           )\n",
    "\n",
    "# Configurar el título y etiquetas\n",
    "plt.title('Ventas Totales por Plataforma')\n",
    "plt.xlabel('Ventas Totales (en millones)')\n",
    "plt.ylabel('Plataforma')\n",
    "\n",
    "# Mostrar el gráfico\n",
    "plt.show()\n",
    "\n"
   ]
  },
  {
   "cell_type": "markdown",
   "metadata": {},
   "source": [
    "<font color='#FFB000'>__Comentario:__\n",
    "<font color='#000000'>\n",
    ">Desde el año 2011 hasta el comienzo del 2016 las plataformas líderes en ventas fueron PS3, Xbox 360, PS4, 3DS y Xbox One"
   ]
  },
  {
   "cell_type": "markdown",
   "metadata": {},
   "source": [
    "#### <font color='#FFB000'>¿Cuáles crecen y cuáles se reducen?<a id='3.3.2'></a>\n",
    "    \n",
    "[Volver a Contenidos](#back)    "
   ]
  },
  {
   "cell_type": "code",
   "execution_count": 18,
   "metadata": {},
   "outputs": [
    {
     "data": {
      "image/png": "[encoded data removed]",
      "text/plain": [
       "<Figure size 648x432 with 1 Axes>"
      ]
     },
     "metadata": {
      "needs_background": "light"
     },
     "output_type": "display_data"
    }
   ],
   "source": [
    "#  Crear un gráfico de líneas para mostrar las tendencias de ventas \n",
    "#  a lo largo del tiempo\n",
    "\n",
    "\n",
    "#     Filtrar datos para plataformas de estudio\n",
    "mascara_2 =[\n",
    "          'PS3', 'X360', 'PS4', '3DS','XOne'\n",
    "          ]\n",
    "platforms_pop = games[games['platform'].isin(mascara_2)]\n",
    "\n",
    "\n",
    "#     Filtrar datos a partir de 2011\n",
    "platforms_pop =platforms_pop[platforms_pop['year_of_release'] > 2010]\n",
    "\n",
    "\n",
    "\n",
    "\n",
    "\n",
    "plt.figure(figsize=(9, 6))\n",
    "sns.lineplot(\n",
    "             x=\"year_of_release\", \n",
    "             y=\"total_sales\", \n",
    "             hue=\"platform\", \n",
    "             data=platforms_pop, \n",
    "             marker='o', \n",
    "             markersize=10, \n",
    "             palette='Set2'\n",
    "            )\n",
    "\n",
    "\n",
    "# Configurar el título y etiquetas\n",
    "plt.title('Tendencias de Ventas por Plataforma a lo largo del Tiempo')\n",
    "plt.xlabel('Año de Lanzamiento')\n",
    "plt.ylabel('Ventas Totales (en millones)')\n",
    "\n",
    "# Mostrar el gráfico\n",
    "plt.show()\n"
   ]
  },
  {
   "cell_type": "code",
   "execution_count": 19,
   "metadata": {},
   "outputs": [
    {
     "data": {
      "image/png": "[encoded data removed]",
      "text/plain": [
       "<Figure size 648x432 with 1 Axes>"
      ]
     },
     "metadata": {
      "needs_background": "light"
     },
     "output_type": "display_data"
    }
   ],
   "source": [
    "# Calcular el crecimiento anual promedio por plataforma\n",
    "annual_growth = platforms_pop.groupby(['platform', 'year_of_release'])['total_sales'].sum()\n",
    "annual_growth = annual_growth.pct_change().mean(level=0)\n",
    "\n",
    "\n",
    "# Crear un gráfico de barras para mostrar el crecimiento anual promedio por plataforma\n",
    "plt.figure(figsize=(9, 6))\n",
    "sns.barplot(\n",
    "            x=annual_growth.values, \n",
    "            y=annual_growth.index, \n",
    "            palette='Set2'\n",
    "           )\n",
    "\n",
    "\n",
    "# Configurar el título y etiquetas\n",
    "plt.title('Crecimiento Anual Promedio de Ventas por Plataforma')\n",
    "plt.xlabel('Crecimiento Anual Promedio')\n",
    "plt.ylabel('Plataforma')\n",
    "\n",
    "# Mostrar el gráfico\n",
    "plt.show()\n"
   ]
  },
  {
   "cell_type": "markdown",
   "metadata": {},
   "source": [
    "<font color='#FFB000'>__Comentario:__\n",
    "><font color='#000000'>\n",
    ">En el primer gráfico de líneas las tendencias de ventas a lo largo del tiempo por plataforma, se observa una tendencia a la baja en todas las plataformas. Esto indicaba que, en términos generales, las ventas disminuyeron con el tiempo para todas las plataformas.\n",
    ">\n",
    ">En el segundo gráfico de barras, se calculó el crecimiento anual promedio por plataforma. Aquí, el crecimiento anual promedio no necesariamente indica que las ventas absolutas estén aumentando, sino que mide cómo varía el crecimiento de las ventas de un año a otro en promedio. \n",
    ">\n",
    ">Si bien es posible que las ventas totales estén disminuyendo, el crecimiento anual promedio podría ser positivo si la tasa de disminución es menor que la tasa de crecimiento en otros momentos.\n",
    ">\n",
    ">Entonces, ambas observaciones pueden ser ciertas:\n",
    ">\n",
    ">- Las ventas totales pueden mostrar una tendencia a la baja.\n",
    ">- El crecimiento anual promedio puede ser positivo, indicando que, en promedio, hay cierto crecimiento en las ventas de un año a otro.\n",
    ">\n",
    ">**Factores**\n",
    ">\n",
    ">Número de Títulos Lanzados:\n",
    "La disponibilidad de nuevos títulos puede afectar el atractivo y las ventas de una plataforma."
   ]
  },
  {
   "cell_type": "markdown",
   "metadata": {},
   "source": [
    "#### <font color='#FFB000'>Diagrama de caja para las ventas globales de todos los juegos desglosados por plataforma<a id='3.3.3'></a>\n",
    "\n",
    "    \n",
    "[Volver a Contenidos](#back)    "
   ]
  },
  {
   "cell_type": "code",
   "execution_count": 20,
   "metadata": {},
   "outputs": [
    {
     "data": {
      "image/png": "[encoded data removed]",
      "text/plain": [
       "<Figure size 648x432 with 1 Axes>"
      ]
     },
     "metadata": {
      "needs_background": "light"
     },
     "output_type": "display_data"
    }
   ],
   "source": [
    "# Crear un diagrama de caja para las ventas globales desglosadas por plataforma\n",
    "plt.figure(figsize=(9, 6))\n",
    "sns.boxplot(\n",
    "            x='total_sales', \n",
    "            y='platform', \n",
    "            data=platforms_pop, \n",
    "            palette='Set2'\n",
    "           )\n",
    "\n",
    "# Configurar el título y etiquetas\n",
    "plt.title('Ventas Globales de Juegos Desglosadas por Plataforma')\n",
    "plt.xlabel('Ventas Globales (en millones)')\n",
    "plt.ylabel('Plataforma')\n",
    "\n",
    "# Mostrar el gráfico\n",
    "plt.show()"
   ]
  },
  {
   "cell_type": "markdown",
   "metadata": {},
   "source": [
    "##### <font color='#FFB000'>¿Son significativas las diferencias en las ventas? ¿Qué sucede con las ventas promedio en varias plataformas? <a id='3.3.3.1'></a>\n",
    "    \n",
    "[Volver a Contenidos](#back)    \n",
    ">\n",
    ">- De acuerdo a 3.3.1 \"¿Qué plataformas son líderes en ventas?\" en ventas totales la diferencia entre Playstation 4 y Xbox One son de 2 a 1 respectivamente, sin embargo, ambas plataformas exprimentan ventas promedio. Asimismo Plsyatation 3 y Xbox 360 presentan ventas totales con una ligera ventaja para Playstation sin embargo en ventas promedio Xbox 360 tiene ventaja, sin embargo, PS, tiene algunos juegos con ventas atípicas importantes. Podemos concluir dos cosas:\n",
    ">    - Las ventas promedio son similares porque son juegos que ambas plataformas comparten\n",
    ">    - Los valores atípicos se deben a los juegos exclusivos de cada plataforma.\n",
    ">    - Los juegos para la 3DS entonces son en su mayoría exclusivos."
   ]
  },
  {
   "cell_type": "markdown",
   "metadata": {},
   "source": [
    "#### <font color='#FFB000'> Gráfico de dispersión y correlación entre las reseñas y las ventas  -  Solución gráfica y analítica<a id='3.3.4'></a>\n",
    "    \n",
    "[Volver a Contenidos](#back)    \n"
   ]
  },
  {
   "cell_type": "code",
   "execution_count": 21,
   "metadata": {},
   "outputs": [
    {
     "data": {
      "image/png": "[encoded data removed]",
      "text/plain": [
       "<Figure size 648x288 with 2 Axes>"
      ]
     },
     "metadata": {
      "needs_background": "light"
     },
     "output_type": "display_data"
    }
   ],
   "source": [
    "# Solución gráfica\n",
    "# Se usará  seaborn.scatterplot\n",
    "\n",
    "\n",
    "\n",
    "# Crear un gráfico de dispersión y calcular la correlación\n",
    "plt.figure(figsize=(9, 4))\n",
    "\n",
    "\n",
    "# Gráfico de dispersión para puntuaciones de críticos\n",
    "plt.subplot(1, 2, 1)\n",
    "sns.scatterplot(\n",
    "                x='critic_score', \n",
    "                y='total_sales',\n",
    "                data=platforms_pop, \n",
    "                color='blue', \n",
    "                alpha=0.7\n",
    "               )\n",
    "plt.title('Correlación entre Puntuaciones de Críticos y Ventas')\n",
    "\n",
    "\n",
    "# Gráfico de dispersión para puntuaciones de usuarios\n",
    "plt.subplot(1, 2, 2)\n",
    "sns.scatterplot(\n",
    "                x='user_score', \n",
    "                y='total_sales', \n",
    "                data=platforms_pop, \n",
    "                color='green', \n",
    "                alpha=0.7\n",
    "               )\n",
    "\n",
    "plt.title('Correlación entre Puntuaciones de Usuarios y Ventas')\n",
    "\n",
    "# Ajustar diseño\n",
    "plt.tight_layout()\n",
    "\n",
    "# Mostrar el gráfico\n",
    "plt.show()"
   ]
  },
  {
   "cell_type": "code",
   "execution_count": 22,
   "metadata": {},
   "outputs": [
    {
     "name": "stdout",
     "output_type": "stream",
     "text": [
      "Correlación entre Puntuaciones de Críticos y Ventas: 0.380091345896269\n",
      "Correlación entre Puntuaciones de Usuarios y Ventas: 0.029311883764173565\n"
     ]
    }
   ],
   "source": [
    "# Solución analítica\n",
    "\n",
    "\n",
    "\n",
    "# Calcular la correlación entre puntuaciones de críticos y ventas\n",
    "correlation_critic = platforms_pop['critic_score'].corr(platforms_pop['total_sales'])\n",
    "\n",
    "# Calcular la correlación entre puntuaciones de usuarios y ventas\n",
    "correlation_user = platforms_pop['user_score'].corr(platforms_pop['total_sales'])\n",
    "\n",
    "print(f\"Correlación entre Puntuaciones de Críticos y Ventas: {correlation_critic}\")\n",
    "print(f\"Correlación entre Puntuaciones de Usuarios y Ventas: {correlation_user}\")"
   ]
  },
  {
   "cell_type": "markdown",
   "metadata": {},
   "source": [
    " <font color='#FFB000'>__Comentario:__\n",
    "<font color='#000000'>\n",
    ">- La correlación entre puntuaciones de críticos y ventas es aproximadamente 0.3\n",
    ">- La correlación entre puntuaciones de usuarios y ventas es aproximadamente 0.029\n",
    ">- Según estos resultados, no podemos afirmar que las puntuaciones de críticos o usuarios tengan una correlación fuerte con las ventas. Pueden haber otros factores o variables que también influyan en el rendimiento de ventas de los videojuegos."
   ]
  },
  {
   "cell_type": "markdown",
   "metadata": {},
   "source": [
    "#### <font color='#FFB000'>Comparación de los mismos juegos entre plataformas<a id='3.3.5'></a>\n",
    "><font color='#FFB000'>__Comentarios al final de 3.3.5__\n",
    "\n",
    "##### <font color='#FFB000'>Número de juegos por cada plataforma y juegos compartidos <a id='3.3.5.1'></a>\n",
    "    \n",
    "[Volver a Contenidos](#back)    "
   ]
  },
  {
   "cell_type": "code",
   "execution_count": 23,
   "metadata": {
    "scrolled": false
   },
   "outputs": [
    {
     "data": {
      "image/png": "[encoded data removed]",
      "text/plain": [
       "<Figure size 504x504 with 1 Axes>"
      ]
     },
     "metadata": {
      "needs_background": "light"
     },
     "output_type": "display_data"
    }
   ],
   "source": [
    "# Filtrar los juegos por plataforma\n",
    "# Mediante Merge fusionamos las Series dónde sean iguales\n",
    "# Retomando el DataFrame creado en 3.3.2   \" platforms_pop \"\n",
    "\n",
    "\n",
    "\n",
    "#     Filtrar datos para plataformas de estudio\n",
    "\n",
    "XboxOne = platforms_pop.query(\"platform == 'XOne'\")[[\n",
    "                                                     \"name\", \n",
    "                                                     \"total_sales\", \n",
    "                                                     \"genre\"\n",
    "                                                   ]]\n",
    "\n",
    "PS4 = platforms_pop.query(\"platform == 'PS4'\")[[\n",
    "                                                 \"name\", \n",
    "                                                 \"total_sales\",\n",
    "                                                 \"genre\"\n",
    "                                              ]]\n",
    "\n",
    "PS3 = platforms_pop.query(\"platform == 'PS3'\")[[\n",
    "                                                \"name\", \n",
    "                                                \"total_sales\",\n",
    "                                                \"genre\"\n",
    "                                               ]]\n",
    "\n",
    "Xbox360 = platforms_pop.query(\"platform == 'X360'\")[[\n",
    "                                                     \"name\", \n",
    "                                                     \"total_sales\",\n",
    "                                                     \"genre\"\n",
    "                                                    ]]\n",
    "\n",
    "_3DS = platforms_pop.query(\"platform == '3DS'\")[[\n",
    "                                                 \"name\", \n",
    "                                                 \"total_sales\",\n",
    "                                                 \"genre\"\n",
    "                                               ]]\n",
    "\n",
    "WiiU = platforms_pop.query(\"platform == 'WiiU'\")[[\n",
    "                                                 \"name\", \n",
    "                                                 \"total_sales\",\n",
    "                                                 \"genre\"\n",
    "                                                ]]\n",
    "\n",
    "\n",
    "\n",
    "# Nuevas series\n",
    "xboxone_sales = XboxOne\n",
    "xbox360_sales = Xbox360\n",
    "ps4_sales = PS4\n",
    "ps3_sales = PS3\n",
    "_3ds_sales = _3DS\n",
    "wiiu_sales = WiiU\n",
    "\n",
    "\n",
    "# Fusionar las Series\n",
    "common_games_xbox_ps4      = pd.merge(\n",
    "                                      xboxone_sales, \n",
    "                                      ps4_sales, \n",
    "                                      on=[\"name\",\"genre\"], \n",
    "                                      how=\"inner\", \n",
    "                                      suffixes=['_XOne', '_PS4']\n",
    "                                     )\n",
    "\n",
    "common_games_xboxone_360_ps4 = pd.merge(\n",
    "                                      common_games_xbox_ps4, \n",
    "                                      xbox360_sales, \n",
    "                                      on=[\"name\",\"genre\"], \n",
    "                                      how=\"inner\", \n",
    "                                      suffixes=['_x', '_Xbox360']\n",
    "                                     )\n",
    "\n",
    "common_games_xboxone_360_ps_4_3 = pd.merge(\n",
    "                                      common_games_xboxone_360_ps4, \n",
    "                                      ps3_sales, \n",
    "                                      on=[\"name\",\"genre\"], \n",
    "                                      how=\"inner\", \n",
    "                                      suffixes=['_x', '_PS3']\n",
    "                                     )\n",
    "\n",
    "common_games_xbox360_ps3 = pd.merge(\n",
    "                                      xbox360_sales, \n",
    "                                      ps3_sales, \n",
    "                                      on=[\"name\",\"genre\"], \n",
    "                                      how=\"inner\", \n",
    "                                      suffixes=['_Xbox360', '_PS3']\n",
    "                                     )\n",
    "\n",
    "common_games               = pd.merge(\n",
    "                                      common_games_xboxone_360_ps_4_3, \n",
    "                                      _3ds_sales, \n",
    "                                      on=[\"name\",\"genre\"], \n",
    "                                      how=\"inner\", \n",
    "                                      suffixes=['_x', '_3DS']\n",
    "                                     )\n",
    "\n",
    "\n",
    "\n",
    "\n",
    "\n",
    "# Gráfico que representa el número de juegos por plataforma y \n",
    "# los juegos compartidos\n",
    "\n",
    "\n",
    "#     Crear máscara para el gráfico\n",
    "platforms = [\n",
    "             'PS3',\n",
    "             '3DS',\n",
    "             'Xbox360',\n",
    "             'PS4',\n",
    "             'Comunes (Xbox360, PS3)',\n",
    "             'XboxOne', \n",
    "             'Comunes (XboxOne, PS4)', \n",
    "             'Comunes (XboxOne, PS4, Xbox360, PS3)',\n",
    "             'Comunes (XboxOne, PS4, Xbox360, PS3, 3DS)'\n",
    "            ]\n",
    "\n",
    "num_games = [\n",
    "             len(PS3),\n",
    "             len(_3DS),\n",
    "             len(Xbox360),\n",
    "             len(PS4), \n",
    "             len(common_games_xbox360_ps3),\n",
    "             len(XboxOne),\n",
    "             len(common_games_xbox_ps4), \n",
    "             len(common_games_xboxone_360_ps_4_3),\n",
    "             len(common_games)\n",
    "            ]\n",
    "\n",
    "\n",
    "\n",
    "#     Crear un gráfico de barras horizontales\n",
    "plt.figure(figsize=(7, 7))\n",
    "\n",
    "#     Barras para el número de juegos por plataforma y comunes entre ellas\n",
    "sns.barplot(\n",
    "            x=num_games, \n",
    "            y=platforms, \n",
    "            palette='viridis'\n",
    "           )\n",
    "\n",
    "#     Configurar el título y etiquetas\n",
    "plt.title('Número de Juegos por Plataforma y Juegos Comunes')\n",
    "plt.xlabel('Número de Juegos')\n",
    "plt.ylabel('Plataforma')\n",
    "\n",
    "#     Mostrar el gráfico\n",
    "plt.show()\n",
    "\n"
   ]
  },
  {
   "cell_type": "markdown",
   "metadata": {},
   "source": [
    "##### <font color='#FFB000'>Ventas totales de juegos por cada plataforma y juegos compartidos<a id='3.3.5.2'></a>\n",
    " \n",
    "[Volver a Contenidos](#back)    \n",
    "<font color='#FFB000'> __Xbox One  vs  Playstation 4__"
   ]
  },
  {
   "cell_type": "code",
   "execution_count": 24,
   "metadata": {
    "scrolled": false
   },
   "outputs": [
    {
     "data": {
      "image/png": "[encoded data removed]",
      "text/plain": [
       "<Figure size 648x432 with 1 Axes>"
      ]
     },
     "metadata": {
      "needs_background": "light"
     },
     "output_type": "display_data"
    }
   ],
   "source": [
    "# Xbox One  vs  Playstation 4\n",
    "\n",
    "\n",
    "# Sumar las ventas totales por plataforma\n",
    "total_sales_xone = common_games[\"total_sales_XOne\"].sum()\n",
    "total_sales_ps4 = common_games[\"total_sales_PS4\"].sum()\n",
    "\n",
    "\n",
    "\n",
    "# Crear un DataFrame para las barras\n",
    "bar_data = pd.DataFrame({\n",
    "    \"Platform\": [ \n",
    "                 \"PS4\",\n",
    "                 \"Xbox One\",\n",
    "                ],\n",
    "    \n",
    "    \"Total Sales\": [\n",
    "                    total_sales_ps4, \n",
    "                    total_sales_xone\n",
    "                   ]\n",
    "})\n",
    "\n",
    "\n",
    "# Crear la gráfica de barras horizontales\n",
    "plt.figure(figsize=(9, 6))\n",
    "sns.barplot(\n",
    "            x=\"Total Sales\", \n",
    "            y=\"Platform\", \n",
    "            data=bar_data, \n",
    "            palette='viridis'\n",
    "           )\n",
    "\n",
    "plt.title('Ventas Totales de Juegos Comunes - XOne vs PS4')\n",
    "plt.xlabel('Ventas Totales (en millones)')\n",
    "plt.ylabel('Plataforma')\n",
    "plt.show()"
   ]
  },
  {
   "cell_type": "markdown",
   "metadata": {},
   "source": [
    "<font color='#FFB000'> __Xbox 360  vs  Playstation 3__\n",
    "    \n",
    "[Volver a Contenidos](#back)    "
   ]
  },
  {
   "cell_type": "code",
   "execution_count": 25,
   "metadata": {},
   "outputs": [
    {
     "data": {
      "image/png": "[encoded data removed]",
      "text/plain": [
       "<Figure size 648x432 with 1 Axes>"
      ]
     },
     "metadata": {
      "needs_background": "light"
     },
     "output_type": "display_data"
    }
   ],
   "source": [
    "# Xbox 360  vs  Playstation 3\n",
    "\n",
    "\n",
    "# Sumar las ventas totales por plataforma\n",
    "total_sales_xbox360 = common_games[\"total_sales_x\"].sum()\n",
    "total_sales_ps3 = common_games[\"total_sales_PS3\"].sum()\n",
    "\n",
    "\n",
    "# Crear un DataFrame para las barras\n",
    "bar_data = pd.DataFrame({\n",
    "    \"Platform\": [ \n",
    "                 \"PS3\",\n",
    "                 \"Xbox 360\",\n",
    "                ],\n",
    "    \n",
    "    \"Total Sales\": [\n",
    "                    total_sales_ps3,\n",
    "                    total_sales_xbox360,  \n",
    "                   ]\n",
    "})\n",
    "\n",
    "\n",
    "# Crear la gráfica de barras horizontales\n",
    "plt.figure(figsize=(9, 6))\n",
    "sns.barplot(x=\"Total Sales\", \n",
    "            y=\"Platform\", \n",
    "            data=bar_data, \n",
    "            palette='viridis')\n",
    "\n",
    "plt.title('Ventas Totales de Juegos Comunes - Xbox 360  vs  Playstation 4')\n",
    "plt.xlabel('Ventas Totales (en millones)')\n",
    "plt.ylabel('Plataforma')\n",
    "plt.show()"
   ]
  },
  {
   "cell_type": "markdown",
   "metadata": {},
   "source": [
    "<font color='#FFB000'>__Xbox One  vs  Playstation 4  vs Xbox360 vs Playstation 3 vs 3DS__\n",
    "    \n",
    "[Volver a Contenidos](#back)    "
   ]
  },
  {
   "cell_type": "code",
   "execution_count": 26,
   "metadata": {},
   "outputs": [
    {
     "data": {
      "image/png": "[encoded data removed]",
      "text/plain": [
       "<Figure size 720x432 with 1 Axes>"
      ]
     },
     "metadata": {
      "needs_background": "light"
     },
     "output_type": "display_data"
    }
   ],
   "source": [
    "# Xbox One  vs  Playstation 4  vs Xbox 360 vs vs Playstation 3 vs 3DS\n",
    "\n",
    "\n",
    "# Definir las variables de ventas totales\n",
    "total_sales_xone = 129.36\n",
    "total_sales_ps4 = 256.35\n",
    "total_sales_xbox360 = 330.81\n",
    "total_sales_ps3 = 354.16\n",
    "total_sales_3DS = 5.11  # Este valor es total_sales_3DS = common_games[\"total_sales\"].sum()\n",
    "\n",
    "# Crear un DataFrame para las ventas totales\n",
    "sales_data = {\n",
    "    \"Plataforma\": [\"PS3\",\n",
    "                   \"Xbox 360\",\n",
    "                   \"PS4\", \n",
    "                   \"Xbox One\", \n",
    "                   \"3DS\"],\n",
    "    \n",
    "    \"Ventas Totales (en millones)\": [total_sales_ps3,\n",
    "                                     total_sales_xbox360,\n",
    "                                     total_sales_ps4, \n",
    "                                     total_sales_xone, \n",
    "                                     total_sales_3DS]\n",
    "}\n",
    "\n",
    "sales_df = pd.DataFrame(sales_data)\n",
    "\n",
    "# Crear un gráfico de barras horizontales con Seaborn\n",
    "plt.figure(figsize=(10, 6))\n",
    "sns.barplot(x=\"Ventas Totales (en millones)\", y=\"Plataforma\", data=sales_df, palette='viridis')\n",
    "\n",
    "# Configurar el título y etiquetas\n",
    "plt.title('Ventas Totales de Juegos compartidos por Plataforma')\n",
    "plt.xlabel('Ventas Totales (en millones)')\n",
    "plt.ylabel('Plataforma')\n",
    "\n",
    "# Mostrar el gráfico\n",
    "plt.show()\n"
   ]
  },
  {
   "cell_type": "code",
   "execution_count": 27,
   "metadata": {},
   "outputs": [
    {
     "name": "stdout",
     "output_type": "stream",
     "text": [
      "103\n"
     ]
    }
   ],
   "source": [
    "#len(common_games_xbox360_ps3),\n",
    " #            len(XboxOne),\n",
    "  #           len(common_games_xbox_ps4), \n",
    "   #          len(common_games_xboxone_360_ps_4_3),\n",
    "    #         len(common_games)\n",
    "\n",
    "\n",
    "print(common_games_xboxone_360_ps_4_3[\"name\"].nunique())"
   ]
  },
  {
   "cell_type": "markdown",
   "metadata": {},
   "source": [
    "<font color='#FFB000'>__Comentario:__\n",
    "<font color='#000000'>\n",
    "Desde el 2011 juegos lanzados por pñataforma:\n",
    "\n",
    "\n",
    "|Plataforma|Títulos|\n",
    "|----------|-------|\n",
    "|PS4       |  392  |\n",
    "|Xbox One  |  247  |\n",
    "|Xbox 360  |  498  |\n",
    "|PS3       |  732  |    \n",
    "|WiiU      |  147  |\n",
    "|3DS       |  512  |\n",
    "\n",
    "***\n",
    "\n",
    "\n",
    "> Juegos compartidos Xbox One y PS4:  <mark> 217 <mark> desde el 2011\n",
    "      > - PS4:  55.3% son compartidos  \n",
    "      > - Xbox One: 87.8 % son compartidos\n",
    "\n",
    "***\n",
    "\n",
    "> Juegos compartidos Xbox 360 y PS3:   Juego compartidos <mark>390<mark> desde el 2011\n",
    "    > - Xbox 360: 78.3%\n",
    "    > - PS3: 53.27%\n",
    "\n",
    "***\n",
    "> Juegos compartidos Xbox One, PS4, Xbox 360 y PS3:   Juego compartidos <mark>103<mark> desde el 2011  \n",
    "    \n",
    "    > - Xbox 360: 20.60%\n",
    "    > - PS3: 26.27.27%\n",
    "    > - Xbox One: 41.7%\n",
    "    > - PS3:14.07%\n",
    "***\n",
    "    \n",
    "> Juegos compartidos Xbox One, PS4, Xbos 360, PS3 y 3DS: <mark>16 desde el 2011<mark>\n",
    "    > - 3DS: 3.1%\n",
    " \n",
    "***\n",
    "    \n",
    ">* Esto proporciona una visión detallada de la intersección de títulos entre las plataformas, destacando la popularidad y la diversidad de juegos compartidos, siendo Plasyatation la plataforma más popular. \n",
    "*También destaca la concentración de títulos compartidos entre Xbox y Playstation, lo cual puede ser un indicador interesante para entender las preferencias de los desarrolladores y los jugadores en estas plataformas.\n",
    "*Este patrón también sugiere que la verdadera competencia se encuentra entre PlayStation y XBOX, con Nintendo adoptando una estrategia diferente al centrarse en lanzar títulos exclusivos de manera más selectiva."
   ]
  },
  {
   "cell_type": "markdown",
   "metadata": {},
   "source": [
    "#### <font color='#FFB000'>Distribución general de los juegos por género.<a id='3.3.6'></a>\n",
    "\n",
    "[Volver a Contenidos](#back)    \n",
    "    \n",
    "<font color='#FFB000'>**Comentario**\n",
    "<font color='#000000'>\n",
    ">De acuero a los resultados obtenidos en este punto debemos hacer un cambio en el análisis:\n",
    ">- Playstation y Xbox\n",
    ">- Nintendo\n",
    "    \n",
    "<font color='#FFB000'> __Xbox One y PS4__"
   ]
  },
  {
   "cell_type": "code",
   "execution_count": 28,
   "metadata": {
    "scrolled": true
   },
   "outputs": [
    {
     "data": {
      "image/png": "[encoded data removed]",
      "text/plain": [
       "<Figure size 648x288 with 1 Axes>"
      ]
     },
     "metadata": {
      "needs_background": "light"
     },
     "output_type": "display_data"
    }
   ],
   "source": [
    "# Filtrando los juegos por género y total de ingresos\n",
    "common_games_xbox_ps4[\"sales\"] = (\n",
    "                                  common_games_xbox_ps4[\"total_sales_XOne\"]\n",
    "                                + common_games_xbox_ps4[\"total_sales_PS4\"]\n",
    "               \n",
    "                                 )\n",
    "\n",
    "\n",
    "\n",
    "# Agrupando por género y sumando las ventas totales\n",
    "genre_XP = common_games_xbox_ps4.groupby(\"genre\")[\"sales\"].sum().reset_index()\n",
    "\n",
    "\n",
    "# Ordenar las filas por ventas de mayor a menor\n",
    "genre_XP = genre_XP.sort_values(\n",
    "                                by=\"sales\", \n",
    "                                ascending=False\n",
    "                               )\n",
    "\n",
    "\n",
    "# Crear la gráfica de barras\n",
    "plt.figure(figsize=(9, 4))\n",
    "sns.barplot(\n",
    "            x=\"sales\", \n",
    "            y=\"genre\", \n",
    "            data=genre_XP.head(), \n",
    "            palette='viridis'\n",
    "           )\n",
    "\n",
    "\n",
    "# Configuración del título y etiquetas\n",
    "plt.title('Ventas Totales por Género - Xbox One y PlayStation 4')\n",
    "plt.xlabel('Ventas Totales (en millones)')\n",
    "plt.ylabel('Género')\n",
    "\n",
    "# Mostrar la gráfica\n",
    "plt.show()"
   ]
  },
  {
   "cell_type": "markdown",
   "metadata": {},
   "source": [
    "<font color='#FFB000'> __Xbox 360 y PS3__\n",
    "    \n",
    "[Volver a Contenidos](#back)    "
   ]
  },
  {
   "cell_type": "code",
   "execution_count": 29,
   "metadata": {},
   "outputs": [
    {
     "data": {
      "image/png": "[encoded data removed]",
      "text/plain": [
       "<Figure size 648x288 with 1 Axes>"
      ]
     },
     "metadata": {
      "needs_background": "light"
     },
     "output_type": "display_data"
    }
   ],
   "source": [
    "# Filtrando los juegos por género y total de ingresos\n",
    "common_games_xbox360_ps3[\"sales\"] = (\n",
    "                                  common_games_xbox_ps4[\"total_sales_XOne\"]\n",
    "                                + common_games_xbox_ps4[\"total_sales_PS4\"]\n",
    "               \n",
    "                                 )\n",
    "\n",
    "\n",
    "\n",
    "# Agrupando por género y sumando las ventas totales\n",
    "genre_XP2 = common_games_xbox360_ps3.groupby(\"genre\")[\"sales\"].sum().reset_index()\n",
    "\n",
    "\n",
    "# Ordenar las filas por ventas de mayor a menor\n",
    "genre_XP2 = genre_XP2.sort_values(\n",
    "                                by=\"sales\", \n",
    "                                ascending=False\n",
    "                               )\n",
    "\n",
    "\n",
    "# Crear la gráfica de barras\n",
    "plt.figure(figsize=(9, 4))\n",
    "sns.barplot(\n",
    "            x=\"sales\", \n",
    "            y=\"genre\", \n",
    "            data=genre_XP2.head(), \n",
    "            palette='viridis'\n",
    "           )\n",
    "\n",
    "\n",
    "# Configuración del título y etiquetas\n",
    "plt.title('Ventas Totales por Género - Xbox 360 y PlayStation 3')\n",
    "plt.xlabel('Ventas Totales (en millones)')\n",
    "plt.ylabel('Género')\n",
    "\n",
    "# Mostrar la gráfica\n",
    "plt.show()"
   ]
  },
  {
   "cell_type": "markdown",
   "metadata": {},
   "source": [
    "<font color='#FFB000'> __Nintendo__\n",
    "<font color='#000000'>    \n",
    "Debido a que nintendo 3DS no comparte la mayoría de su catalogo con Xbox y playstation veamos que generos son los más populares en la plataforma de manera particular\n",
    "    \n",
    "[Volver a Contenidos](#back)"
   ]
  },
  {
   "cell_type": "code",
   "execution_count": 30,
   "metadata": {},
   "outputs": [
    {
     "data": {
      "image/png": "[encoded data removed]",
      "text/plain": [
       "<Figure size 648x288 with 1 Axes>"
      ]
     },
     "metadata": {
      "needs_background": "light"
     },
     "output_type": "display_data"
    }
   ],
   "source": [
    "# Agrupando por género y sumando las ventas totales\n",
    "genre_Nintendo = _3DS.groupby(\"genre\")[\"total_sales\"].sum().reset_index()\n",
    "\n",
    "\n",
    "# Ordenar las filas por ventas de mayor a menor\n",
    "genre_Nintendo = genre_Nintendo.sort_values(by=\"total_sales\", \n",
    "                                            ascending=False)\n",
    "\n",
    "\n",
    "# Crear la gráfica de barras\n",
    "plt.figure(figsize=(9, 4))\n",
    "sns.barplot(\n",
    "            x=\"total_sales\", \n",
    "            y=\"genre\", \n",
    "            data=genre_Nintendo.head(), \n",
    "            palette='viridis'\n",
    "           )\n",
    "\n",
    "\n",
    "# Configuración del título y etiquetas\n",
    "plt.title('Ventas Totales por Género - Nintendo')\n",
    "plt.xlabel('Ventas Totales (en millones)')\n",
    "plt.ylabel('Género')\n",
    "\n",
    "# Mostrar la gráfica\n",
    "plt.show()"
   ]
  },
  {
   "cell_type": "markdown",
   "metadata": {},
   "source": [
    "<font color='#FFB000'>__Comentario__\n",
    "<font color='#000000'>\n",
    ">**¿Qué se puede decir de los géneros más rentables? ¿Puedes generalizar acerca de los géneros con ventas altas y bajas?**\n",
    ">\n",
    ">Tabla de las preferencias XBOX y PS4   vs   Nintendo\n",
    ">\n",
    "|  Xbox ONe y PS4 |Xbox 360 y PS3|  Nintendo  |\n",
    "|-----------------|--------------|----------  |\n",
    "|Shooter          |Shooter       |Role-Playing|\n",
    "|Action           |Action        |Action      |\n",
    "|Sports           |Sports        |Platform    |\n",
    "|Role-Playing     |Misc          |Simulation  |\n",
    "|Racing           |Role-Playing  |Racing      |\n",
    ">\n",
    ">***\n",
    "> \n",
    "> En la categoría de **Shooter**, XOne y PS4 muestran preferencia por juegos de disparos, mientras que Nintendo se inclina hacia juegos de **Rol y acción**.\n",
    "> Los usuarios de Xbox y Playstation tienen en común el gusto por los juegos de __Shooter, Acción y Deportes__\n",
    "> \n",
    ">- XBOX, PS4 y Nintendo, comparten la preferencia por juegos de **Action**.\n",
    ">\n",
    ">- En cuanto a la categoría de **Sports**, XBOX y PS4 tienen una inclinación hacia este género, mientras que Nintendo prefiere juegos de **Platform**.\n",
    ">\n",
    ">- Ambas plataformas comparten el interés por juegos de **Role-Playing**.\n",
    ">\n",
    ">- La categoría de **Racing** es apreciada tanto por XBOX y PS4 como por Nintendo.\n",
    ">\n",
    ">Estos resultados ofrecen una visión de las preferencias de géneros de juegos entre las plataformas XBOX, PS4 y Nintendo, resaltando similitudes y diferencias en sus elecciones de géneros. \n",
    ">\n",
    ">***\n",
    ">\n",
    ">Diferencia clave:\n",
    ">\n",
    ">Mientras XBOX y Playstation prefieren los juegos de deportes, acción y disparos Nintendo opta por los juegos de Rol."
   ]
  },
  {
   "cell_type": "markdown",
   "metadata": {},
   "source": [
    "## <font color='#2D9596'>  Perfil del usuario por cada región<a id='4'></a>\n",
    "<font color='#2D9596'>\n",
    "    \n",
    "[Volver a Contenidos](#back) \n",
    "    \n",
    ">- 4.1 Las cinco plataformas principales. Descripción de las variaciones en la cuotas de mercado de una región a otra.\n",
    ">    - 4.1.1 Unión Europea\n",
    ">    - 4.1.2 Norte América\n",
    ">    - 4.1.3 Japón\n",
    ">    - 4.1.4 Otras Regiones\n",
    ">- 4.2 Los cinco géneros principales.\n",
    ">    - 4.2.1 Unión Europea\n",
    ">    - 4.2.2 Norte América\n",
    ">    - 4.2.3 Japón\n",
    ">    - 4.2.4 Otras Regiones\n",
    ">- 4.3 ¿Las clasificaciones ESRB afectan a las ventas en las regiones individuales?\n",
    ">    - 4.3.1 Unión Europea\n",
    ">    - 4.3.2 Norte América\n",
    ">    - 4.3.3 Japón\n",
    ">    - 4.3.4 Otras Regiones\n",
    ">\n",
    "***    \n",
    ">**Comentario**\n",
    ">\n",
    ">Las cinco plataformas principales son: \n",
    ">\n",
    ">- PS2    \n",
    ">- X360     \n",
    ">- PS3      \n",
    ">- Wii      \n",
    ">- DS       \n",
    "\n",
    "**DataFrame: <mark> <font color='#0B60B0'>df_top<mark>** de *3.2.1 Plataformas que solían ser populares pero que ahora no tienen ventas*.\n"
   ]
  },
  {
   "cell_type": "markdown",
   "metadata": {},
   "source": [
    "### <font color='#2D9596'>Las cinco plataformas principales. Descripción de las variaciones en la cuotas de mercado de una región a otra.<a id='4.1'></a>\n",
    "[Volver a Contenidos](#back)    \n",
    "> <font color='#2D9596'>__Comentarios al final__\n",
    "    \n",
    "__Filtrar Datos__"
   ]
  },
  {
   "cell_type": "code",
   "execution_count": 31,
   "metadata": {},
   "outputs": [],
   "source": [
    "# Filtrar los datos\n",
    "\n",
    "# Playstation 2\n",
    "# Filtrar datos solo para la plataforma PS2\n",
    "PS2_data = df_top[df_top['platform'] == 'PS2']\n",
    "\n",
    "\n",
    "# Xbox 360\n",
    "# Filtrar datos solo para la plataforma Xbox 360\n",
    "X360_data = df_top[df_top['platform'] == 'X360']\n",
    "\n",
    "\n",
    "# Playstation 3\n",
    "# Filtrar datos solo para la plataforma PS3\n",
    "PS3_data = df_top[df_top['platform'] == 'PS3']\n",
    "\n",
    "\n",
    "# Nintendo Wii\n",
    "# Filtrar datos solo para la plataforma Wii\n",
    "Wii_data = df_top[df_top['platform'] == 'Wii']\n",
    "\n",
    "\n",
    "# Nintendo DS\n",
    "# Filtrar datos solo para la plataforma DS\n",
    "DS_data = df_top[df_top['platform'] == 'DS']\n",
    "\n"
   ]
  },
  {
   "cell_type": "markdown",
   "metadata": {},
   "source": [
    " #### <font color='#2D9596'> __Unión Europea__<a id='4.1.1'></a>\n",
    "[Volver a Contenidos](#back)    "
   ]
  },
  {
   "cell_type": "code",
   "execution_count": 32,
   "metadata": {
    "scrolled": false
   },
   "outputs": [
    {
     "data": {
      "image/png": "[encoded data removed]",
      "text/plain": [
       "<Figure size 648x432 with 1 Axes>"
      ]
     },
     "metadata": {
      "needs_background": "light"
     },
     "output_type": "display_data"
    }
   ],
   "source": [
    "# Filtrado de datos\n",
    "PS2_eu_sales = PS2_data['eu_sales'].sum()\n",
    "X360_eu_sales = X360_data['eu_sales'].sum()\n",
    "PS3_eu_sales = PS3_data['eu_sales'].sum()\n",
    "Wii_eu_sales = Wii_data['eu_sales'].sum()\n",
    "DS_eu_sales = DS_data['eu_sales'].sum()\n",
    "\n",
    "\n",
    "\n",
    "# Crear un DataFrame para las ventas en la Unión Europea por plataforma\n",
    "eu_sales_data = pd.DataFrame({\n",
    "    'Plataforma': [\n",
    "                   'PS2', \n",
    "                   'PS3', \n",
    "                   'X360', \n",
    "                   'Wii', \n",
    "                   'DS'\n",
    "                  ],\n",
    "    \n",
    "    'Ventas en Unión Europea': [\n",
    "                                PS2_eu_sales, \n",
    "                                PS3_eu_sales, \n",
    "                                X360_eu_sales, \n",
    "                                Wii_eu_sales, \n",
    "                                DS_eu_sales\n",
    "                                ]\n",
    "})\n",
    "\n",
    "\n",
    "# Crear la gráfica de barras\n",
    "plt.figure(figsize=(9, 6))\n",
    "sns.barplot(\n",
    "            x='Plataforma', \n",
    "            y='Ventas en Unión Europea', \n",
    "            data=eu_sales_data, \n",
    "            palette='viridis'\n",
    "           )\n",
    "\n",
    "# Configuración del título y etiquetas\n",
    "plt.title('Ventas en la Unión Europea por Plataforma')\n",
    "plt.xlabel('Plataforma')\n",
    "plt.ylabel('Ventas Totales (en millones)')\n",
    "\n",
    "# Mostrar la gráfica\n",
    "plt.show()"
   ]
  },
  {
   "cell_type": "markdown",
   "metadata": {},
   "source": [
    "#### <font color='#2D9596'> __Norte América__<a id='4.1.2'></a>\n",
    "[Volver a Contenidos](#back)    "
   ]
  },
  {
   "cell_type": "code",
   "execution_count": 33,
   "metadata": {
    "scrolled": false
   },
   "outputs": [
    {
     "data": {
      "image/png": "[encoded data removed]",
      "text/plain": [
       "<Figure size 648x432 with 1 Axes>"
      ]
     },
     "metadata": {
      "needs_background": "light"
     },
     "output_type": "display_data"
    }
   ],
   "source": [
    "# Filtrado de datos\n",
    "PS2_na_sales = PS2_data['na_sales'].sum()\n",
    "X360_na_sales = X360_data['na_sales'].sum()\n",
    "PS3_na_sales = PS3_data['na_sales'].sum()\n",
    "Wii_na_sales = Wii_data['na_sales'].sum()\n",
    "DS_na_sales = DS_data['na_sales'].sum()\n",
    "\n",
    "\n",
    "\n",
    "# Crear un DataFrame para las ventas en la Unión Europea por plataforma\n",
    "na_sales_data = pd.DataFrame({\n",
    "    'Plataforma': [\n",
    "                   'X360', \n",
    "                   'PS2', \n",
    "                   'Wii', \n",
    "                   'PS3', \n",
    "                   'DS'\n",
    "                   ],\n",
    "    \n",
    "    'Ventas en Norte América': [\n",
    "                                X360_na_sales, \n",
    "                                PS2_na_sales, \n",
    "                                Wii_na_sales, \n",
    "                                PS3_na_sales, \n",
    "                                DS_na_sales\n",
    "                               ]\n",
    "})\n",
    "\n",
    "\n",
    "# Crear la gráfica de barras\n",
    "plt.figure(figsize=(9, 6))\n",
    "sns.barplot(\n",
    "            x='Plataforma', \n",
    "            y='Ventas en Norte América', \n",
    "            data=na_sales_data, \n",
    "            palette='viridis'\n",
    "           )\n",
    "\n",
    "# Configuración del título y etiquetas\n",
    "plt.title('Ventas en Norte América por Plataforma')\n",
    "plt.xlabel('Plataforma')\n",
    "plt.ylabel('Ventas Totales (en millones)')\n",
    "\n",
    "# Mostrar la gráfica\n",
    "plt.show()"
   ]
  },
  {
   "cell_type": "markdown",
   "metadata": {},
   "source": [
    "#### <font color='#2D9596'>Japón<a id='4.1.3'></a>\n",
    "[Volver a Contenidos](#back)    "
   ]
  },
  {
   "cell_type": "code",
   "execution_count": 34,
   "metadata": {},
   "outputs": [
    {
     "data": {
      "image/png": "[encoded data removed]",
      "text/plain": [
       "<Figure size 648x432 with 1 Axes>"
      ]
     },
     "metadata": {
      "needs_background": "light"
     },
     "output_type": "display_data"
    }
   ],
   "source": [
    "# Filtrado de datos\n",
    "PS2_jp_sales = PS2_data['jp_sales'].sum()\n",
    "X360_jp_sales = X360_data['jp_sales'].sum()\n",
    "PS3_jp_sales = PS3_data['jp_sales'].sum()\n",
    "Wii_jp_sales = Wii_data['jp_sales'].sum()\n",
    "DS_jp_sales = DS_data['jp_sales'].sum()\n",
    "\n",
    "\n",
    "\n",
    "# Crear un DataFrame para las ventas en la Unión Europea por plataforma\n",
    "jp_sales_data = pd.DataFrame({\n",
    "    'Plataforma': [\n",
    "                   'DS', \n",
    "                   'PS2', \n",
    "                   'PS3', \n",
    "                   'Wii', \n",
    "                   'X360'\n",
    "                  ],\n",
    "     \n",
    "    'Ventas en Japón': [\n",
    "                        DS_jp_sales, \n",
    "                        PS2_jp_sales, \n",
    "                        PS3_jp_sales, \n",
    "                        Wii_jp_sales, \n",
    "                        X360_jp_sales\n",
    "                       ]\n",
    "})\n",
    "\n",
    "\n",
    "# Crear la gráfica de barras\n",
    "plt.figure(figsize=(9, 6))\n",
    "sns.barplot(\n",
    "            x='Plataforma', \n",
    "            y='Ventas en Japón', \n",
    "            data=jp_sales_data, \n",
    "            palette='viridis'\n",
    "           )\n",
    "\n",
    "# Configuración del título y etiquetas\n",
    "plt.title('Ventas en Japón por Plataforma')\n",
    "plt.xlabel('Plataforma')\n",
    "plt.ylabel('Ventas Totales (en millones)')\n",
    "\n",
    "# Mostrar la gráfica\n",
    "plt.show()"
   ]
  },
  {
   "cell_type": "markdown",
   "metadata": {},
   "source": [
    "#### <font color='#2D9596'>Otras Regiones<a id='4.1.4'></a>\n",
    "[Volver a Contenidos](#back)   "
   ]
  },
  {
   "cell_type": "code",
   "execution_count": 35,
   "metadata": {},
   "outputs": [
    {
     "data": {
      "image/png": "[encoded data removed]",
      "text/plain": [
       "<Figure size 648x432 with 1 Axes>"
      ]
     },
     "metadata": {
      "needs_background": "light"
     },
     "output_type": "display_data"
    }
   ],
   "source": [
    "# Filtrado de datos\n",
    "PS2_other_sales = PS2_data['other_sales'].sum()\n",
    "X360_other_sales = X360_data['other_sales'].sum()\n",
    "PS3_other_sales = PS3_data['other_sales'].sum()\n",
    "Wii_other_sales = Wii_data['other_sales'].sum()\n",
    "DS_other_sales = DS_data['other_sales'].sum()\n",
    "\n",
    "\n",
    "\n",
    "# Crear un DataFrame para las ventas en la Unión Europea por plataforma\n",
    "other_sales_data = pd.DataFrame({\n",
    "    'Plataforma': [\n",
    "                   'PS2',\n",
    "                   'PS3',\n",
    "                   'X360',  \n",
    "                   'Wii', \n",
    "                   'DS'\n",
    "                  ],\n",
    "    \n",
    "    'Ventas en Otras Regiones': [\n",
    "                                 PS2_other_sales, \n",
    "                                 PS3_other_sales,\n",
    "                                 X360_other_sales,  \n",
    "                                 Wii_other_sales, \n",
    "                                 DS_other_sales\n",
    "                                 ]\n",
    "})\n",
    "\n",
    "# Crear la gráfica de barras\n",
    "plt.figure(figsize=(9, 6))\n",
    "sns.barplot(\n",
    "            x='Plataforma', \n",
    "            y='Ventas en Otras Regiones', \n",
    "            data=other_sales_data, \n",
    "            palette='viridis'\n",
    "           )\n",
    "\n",
    "# Configuración del título y etiquetas\n",
    "plt.title('Ventas en la Otras Regiones por Plataforma')\n",
    "plt.xlabel('Plataforma')\n",
    "plt.ylabel('Ventas Totales (en millones)')\n",
    "\n",
    "# Mostrar la gráfica\n",
    "plt.show()"
   ]
  },
  {
   "cell_type": "markdown",
   "metadata": {},
   "source": [
    "<font color='#2D9596'> __Comentario:__\n",
    ">  **Unión Europea:** \n",
    ">\n",
    ">1. La sexta y séptima generación de plataformas la dominó Playstation. \n",
    ">\n",
    ">2. Además esta es la segunda región más importante.\n",
    ">    \n",
    ">  __Norte América:__ \n",
    ">\n",
    ">1. Este es el mercado más codiciado por las marcas, realta el hecho de que X360 tenga ligera ventaja sobre la PS2.\n",
    ">\n",
    ">2. Por otro lado en la UE Playstation 3 tuvo una ventaja de 50 Millones mientras que en Norte América la diferecnia es de 200 Millones, es decir, cuatro veces más la diferencia. \n",
    ">   \n",
    ">  __Japón:__ \n",
    ">\n",
    "> 1. En esta región resalta la preferencia del público por plataformas portátiles, la Nintendo DS superó en ventas a la plataforma a PS2\n",
    ">\n",
    "> 2. Esta es la 3er región más importante.\n",
    ">\n",
    "> 3. Xbox 360 No es popular en esta región\n",
    ">   \n",
    ">  __Otras Regiones:__\n",
    ">\n",
    "> 1. En el resto de regiones al igual que en la Unión Europea la sexta y séptima generación se las llevo Playstation.\n",
    "\n",
    "    "
   ]
  },
  {
   "cell_type": "markdown",
   "metadata": {},
   "source": [
    "### <font color='#2D9596'> Los cinco géneros principales<a id='4.2'></a>\n",
    "[Volver a Contenidos](#back)    \n",
    "   \n",
    "> <font color='#2D9596'>__Comentarios al final__\n",
    "\n",
    "#### <font color='#2D9596'> Unión Europea<a id='4.2.1'></a>"
   ]
  },
  {
   "cell_type": "code",
   "execution_count": 36,
   "metadata": {
    "scrolled": false
   },
   "outputs": [
    {
     "data": {
      "image/png": "[encoded data removed]",
      "text/plain": [
       "<Figure size 648x216 with 1 Axes>"
      ]
     },
     "metadata": {
      "needs_background": "light"
     },
     "output_type": "display_data"
    }
   ],
   "source": [
    "# Preparar los datos con las 5 plataformas principales\n",
    "#     Filtrar datos para plataformas de estudio\n",
    "mask =['PS3','PS3','X360','WiiU','3DS']\n",
    "df_top_region = games[games['platform'].isin(mask)]\n",
    "    \n",
    "#     Filtrar datos\n",
    "df_top_region =df_top_region[df_top_region['year_of_release'] > 0]\n",
    "\n",
    "\n",
    "\n",
    "\n",
    "\n",
    "# Agrupar por género y sumar las ventas en la Unión Europea\n",
    "ue_genre_top = df_top_region.groupby(\"genre\")[\"eu_sales\"].sum().reset_index()\n",
    "\n",
    "# Ordenar por ventas en la Unión Europea de manera descendente\n",
    "ue_genre_top = ue_genre_top.sort_values(by=\"eu_sales\", \n",
    "                                        ascending=False)\n",
    "\n",
    "# Obtener los cinco géneros principales\n",
    "ue_genre_top = ue_genre_top.head()\n",
    "\n",
    "\n",
    "# Crear la gráfica de barras\n",
    "plt.figure(figsize=(9, 3))\n",
    "sns.barplot(\n",
    "            x='eu_sales', y='genre', \n",
    "            data=ue_genre_top, \n",
    "            palette='viridis'\n",
    "           )\n",
    "\n",
    "# Configuración del título y etiquetas\n",
    "plt.title('Top 5 Géneros en Ventas (Unión Europea)')\n",
    "plt.xlabel('Ventas en la Unión Europea (en millones)')\n",
    "plt.ylabel('Género')\n",
    "\n",
    "# Mostrar la gráfica\n",
    "plt.show()\n",
    "\n"
   ]
  },
  {
   "cell_type": "markdown",
   "metadata": {},
   "source": [
    "#### <font color='#2D9596'> Norte América<a id='4.2.2'></a>\n",
    "[Volver a Contenidos](#back)    "
   ]
  },
  {
   "cell_type": "code",
   "execution_count": 37,
   "metadata": {},
   "outputs": [
    {
     "data": {
      "image/png": "[encoded data removed]",
      "text/plain": [
       "<Figure size 576x216 with 1 Axes>"
      ]
     },
     "metadata": {
      "needs_background": "light"
     },
     "output_type": "display_data"
    }
   ],
   "source": [
    "# Agrupar por género y sumar las ventas en Norte América\n",
    "na_genre_top = df_top_region.groupby(\"genre\")[\"na_sales\"].sum().reset_index()\n",
    "\n",
    "\n",
    "# Ordenar por ventas en Norte América de manera descendente\n",
    "na_genre_top = na_genre_top.sort_values(by=\"na_sales\", \n",
    "                                        ascending=False)\n",
    "\n",
    "# Obtener los cinco géneros principales\n",
    "na_genre_top = na_genre_top.head()\n",
    "\n",
    "\n",
    "# Crear la gráfica de barras\n",
    "plt.figure(figsize=(8, 3))\n",
    "sns.barplot(\n",
    "            x='na_sales', \n",
    "            y='genre', \n",
    "            data=na_genre_top, \n",
    "            palette='viridis'\n",
    "           )\n",
    "\n",
    "# Configuración del título y etiquetas\n",
    "plt.title('Top 5 Géneros en Ventas (Norte América)')\n",
    "plt.xlabel('Ventas en Norte América (en millones)')\n",
    "plt.ylabel('Género')\n",
    "\n",
    "# Mostrar la gráfica\n",
    "plt.show()"
   ]
  },
  {
   "cell_type": "markdown",
   "metadata": {},
   "source": [
    "####  <font color='#2D9596'> Japón<a id='4.2.3'></a>\n",
    "[Volver a Contenidos](#back)    "
   ]
  },
  {
   "cell_type": "code",
   "execution_count": 38,
   "metadata": {},
   "outputs": [
    {
     "data": {
      "image/png": "[encoded data removed]",
      "text/plain": [
       "<Figure size 576x216 with 1 Axes>"
      ]
     },
     "metadata": {
      "needs_background": "light"
     },
     "output_type": "display_data"
    }
   ],
   "source": [
    "# Agrupar por género y sumar las ventas en Japón\n",
    "jp_genre_top = df_top_region.groupby(\"genre\")[\"jp_sales\"].sum().reset_index()\n",
    "\n",
    "\n",
    "# Ordenar por ventas en Japón de manera descendente\n",
    "jp_genre_top = jp_genre_top.sort_values(by=\"jp_sales\", \n",
    "                                        ascending=False)\n",
    "\n",
    "# Obtener los cinco géneros principales\n",
    "jp_genre_top = jp_genre_top.head()\n",
    "\n",
    "\n",
    "# Crear la gráfica de barras\n",
    "plt.figure(figsize=(8, 3))\n",
    "sns.barplot(\n",
    "            x='jp_sales', \n",
    "            y='genre', \n",
    "            data=jp_genre_top, \n",
    "            palette='viridis'\n",
    "           )\n",
    "\n",
    "# Configuración del título y etiquetas\n",
    "plt.title('Top 5 Géneros en Ventas (Japón)')\n",
    "plt.xlabel('Ventas en Japón (en millones)')\n",
    "plt.ylabel('Género')\n",
    "\n",
    "# Mostrar la gráfica\n",
    "plt.show()"
   ]
  },
  {
   "cell_type": "markdown",
   "metadata": {},
   "source": [
    "#### <font color='#2D9596'> Otras Regiones<a id='4.2.4'></a>\n",
    "[Volver a Contenidos](#back)    "
   ]
  },
  {
   "cell_type": "code",
   "execution_count": 39,
   "metadata": {},
   "outputs": [
    {
     "data": {
      "image/png": "[encoded data removed]",
      "text/plain": [
       "<Figure size 576x216 with 1 Axes>"
      ]
     },
     "metadata": {
      "needs_background": "light"
     },
     "output_type": "display_data"
    }
   ],
   "source": [
    "# Agrupar por género y sumar las ventas en Otras de Regiones\n",
    "other_genre_top = df_top_region.groupby(\"genre\")[\"other_sales\"].sum().reset_index()\n",
    "\n",
    "\n",
    "# Ordenar por ventas en Otras de Regiones de manera descendente\n",
    "other_genre_top = other_genre_top.sort_values(by=\"other_sales\", \n",
    "                                              ascending=False)\n",
    "\n",
    "\n",
    "# Obtener los cinco géneros principales\n",
    "other_genre_top = other_genre_top.head()\n",
    "\n",
    "\n",
    "# Crear la gráfica de barras\n",
    "plt.figure(figsize=(8, 3))\n",
    "sns.barplot(\n",
    "            x='other_sales', \n",
    "            y='genre', \n",
    "            data=other_genre_top, \n",
    "            palette='viridis'\n",
    "           )\n",
    "\n",
    "# Configuración del título y etiquetas\n",
    "plt.title('Top 5 Géneros en Ventas (Otras de Regiones)')\n",
    "plt.xlabel('Ventas en Otras de Regiones (en millones)')\n",
    "plt.ylabel('Género')\n",
    "\n",
    "# Mostrar la gráfica\n",
    "plt.show()"
   ]
  },
  {
   "cell_type": "markdown",
   "metadata": {},
   "source": [
    "<font color='#2D9596'> __Comentario:__\n",
    "\n",
    ">__Consistencia en Preferencias:__\n",
    "> 1. La consistencia en las preferencias de géneros entre la Unión Europea, América del Norte y Otras Regiones sugiere que hay patrones similares de consumo de videojuegos en estas áreas geográficas.\n",
    ">2. La popularidad dominante de géneros como Action y Shooter indica una demanda constante de experiencias de juego orientadas a la acción y la adrenalina.\n",
    "\n",
    "***\n",
    "    \n",
    ">__Divergencia en Japón:__\n",
    ">1. La preferencia marcada por los juegos de Rol y Action en Japón destaca la diversidad en gustos de los jugadores japoneses en comparación con las otras regiones.\n",
    ">2. Este hallazgo podría ser útil para desarrolladores y editores al  adaptar estrategias de marketing y lanzamientos de juegos para  audiencias específicas.\n",
    "\n",
    "***\n",
    "\n",
    ">__Importancia de la Región en la Estrategia de Mercado:__\n",
    ">    \n",
    ">El reconocimiento de las preferencias regionales es clave para el éxito en el mercado de videojuegos. Ajustar estrategias de lanzamiento y marketing según las preferencias específicas de cada región puede aumentar la receptividad del público.\n",
    "\n",
    "***\n",
    "\n",
    ">__Oportunidades de Desarrollo:__\n",
    ">\n",
    ">Considerar la popularidad de ciertos géneros en diferentes regiones podría ofrecer oportunidades para el desarrollo de nuevos juegos o adaptaciones que resuenen fuertemente con las audiencias locales.\n",
    "    \n"
   ]
  },
  {
   "cell_type": "markdown",
   "metadata": {},
   "source": [
    "### <font color='#2D9596'> ¿Las clasificaciones ESRB afectan a las ventas en las regiones individuales?<a id='4.3'></a>\n",
    "[Volver a Contenidos](#back)\n",
    "> <font color='#2D9596'>__Comentarios al final__"
   ]
  },
  {
   "cell_type": "markdown",
   "metadata": {},
   "source": [
    "#### <font color='#2D9596'>Unión Europea<a id='4.3.1'></a>"
   ]
  },
  {
   "cell_type": "code",
   "execution_count": 40,
   "metadata": {
    "scrolled": false
   },
   "outputs": [
    {
     "data": {
      "image/png": "[encoded data removed]",
      "text/plain": [
       "<Figure size 864x360 with 1 Axes>"
      ]
     },
     "metadata": {
      "needs_background": "light"
     },
     "output_type": "display_data"
    }
   ],
   "source": [
    "# Filtrar datos retomando a  -  df_top_region de \n",
    "#              4.2 Los cinco géneros principales\n",
    "ue_ESRB_top = df_top_region.groupby(\"rating\")[\"eu_sales\"].sum().reset_index()\n",
    "\n",
    "\n",
    "# Crear un gráfico de dispersión y calcular la correlación\n",
    "plt.figure(figsize=(12, 5))\n",
    "\n",
    "# Gráfico de dispersión para puntuaciones de críticos\n",
    "plt.subplot(1, 2, 1)\n",
    "sns.scatterplot(\n",
    "    x='rating', \n",
    "    y='eu_sales',\n",
    "    data=ue_ESRB_top, \n",
    "    color='blue', \n",
    "    alpha=0.7\n",
    ")\n",
    "plt.title('Correlación entre Clasificaciones ESRB y Ventas (Unión Europea)')\n",
    "\n",
    "# Mostrar el gráfico\n",
    "plt.show()\n",
    "\n"
   ]
  },
  {
   "cell_type": "markdown",
   "metadata": {},
   "source": [
    "#### <font color='#2D9596'>Norte América<a id='4.3.2'></a>\n",
    "[Volver a Contenidos](#back)"
   ]
  },
  {
   "cell_type": "code",
   "execution_count": 41,
   "metadata": {},
   "outputs": [
    {
     "data": {
      "image/png": "[encoded data removed]",
      "text/plain": [
       "<Figure size 864x360 with 1 Axes>"
      ]
     },
     "metadata": {
      "needs_background": "light"
     },
     "output_type": "display_data"
    }
   ],
   "source": [
    "# Filtrar datos retomando a  -  df_top_region de \n",
    "#              4.2 Los cinco géneros principales\n",
    "na_ESRB_top = df_top_region.groupby(\"rating\")[\"na_sales\"].sum().reset_index()\n",
    "\n",
    "\n",
    "# Crear un gráfico de dispersión y calcular la correlación\n",
    "plt.figure(figsize=(12, 5))\n",
    "\n",
    "# Gráfico de dispersión para puntuaciones de críticos\n",
    "plt.subplot(1, 2, 1)\n",
    "sns.scatterplot(\n",
    "    x='rating', \n",
    "    y='na_sales',\n",
    "    data=na_ESRB_top, \n",
    "    color='blue', \n",
    "    alpha=0.7\n",
    ")\n",
    "plt.title('Correlación entre Clasificaciones ESRB y Ventas (Norte América)')\n",
    "\n",
    "# Mostrar el gráfico\n",
    "plt.show()"
   ]
  },
  {
   "cell_type": "markdown",
   "metadata": {},
   "source": [
    "#### <font color='#2D9596'> Japón<a id='4.3.3'></a>\n",
    "[Volver a Contenidos](#back)"
   ]
  },
  {
   "cell_type": "code",
   "execution_count": 42,
   "metadata": {},
   "outputs": [
    {
     "data": {
      "image/png": "[encoded data removed]",
      "text/plain": [
       "<Figure size 864x360 with 1 Axes>"
      ]
     },
     "metadata": {
      "needs_background": "light"
     },
     "output_type": "display_data"
    }
   ],
   "source": [
    "# Filtrar datos retomando a  -  df_top_region de \n",
    "#              4.2 Los cinco géneros principales\n",
    "jp_ESRB_top = df_top_region.groupby(\"rating\")[\"jp_sales\"].sum().reset_index()\n",
    "\n",
    "\n",
    "# Crear un gráfico de dispersión y calcular la correlación\n",
    "plt.figure(figsize=(12, 5))\n",
    "\n",
    "# Gráfico de dispersión para puntuaciones de críticos\n",
    "plt.subplot(1, 2, 1)\n",
    "sns.scatterplot(\n",
    "    x='rating', \n",
    "    y='jp_sales',\n",
    "    data=jp_ESRB_top, \n",
    "    color='blue', \n",
    "    alpha=0.7\n",
    ")\n",
    "plt.title('Correlación entre Clasificaciones ESRB y Ventas (Japón)')\n",
    "\n",
    "# Mostrar el gráfico\n",
    "plt.show()"
   ]
  },
  {
   "cell_type": "markdown",
   "metadata": {},
   "source": [
    "#### <font color='#2D9596'> Otras Regiones<a id='4.3.4'></a>\n",
    "[Volver a Contenidos](#back)"
   ]
  },
  {
   "cell_type": "code",
   "execution_count": 43,
   "metadata": {},
   "outputs": [
    {
     "data": {
      "image/png": "[encoded data removed]",
      "text/plain": [
       "<Figure size 864x360 with 1 Axes>"
      ]
     },
     "metadata": {
      "needs_background": "light"
     },
     "output_type": "display_data"
    }
   ],
   "source": [
    "# Filtrar datos retomando a  -  df_top_region   de \n",
    "#              4.2 Los cinco géneros principales\n",
    "\n",
    "other_ESRB_top = df_top_region.groupby(\"rating\")[\"other_sales\"].sum().reset_index()\n",
    "\n",
    "\n",
    "# Crear un gráfico de dispersión y calcular la correlación\n",
    "plt.figure(figsize=(12, 5))\n",
    "\n",
    "# Gráfico de dispersión para puntuaciones de críticos\n",
    "plt.subplot(1, 2, 1)\n",
    "sns.scatterplot(\n",
    "    x='rating', \n",
    "    y='other_sales',\n",
    "    data=other_ESRB_top, \n",
    "    color='blue', \n",
    "    alpha=0.7\n",
    ")\n",
    "plt.title('Correlación entre Clasificaciones ESRB y Ventas (Otras Regiones)')\n",
    "\n",
    "# Mostrar el gráfico\n",
    "plt.show()"
   ]
  },
  {
   "cell_type": "markdown",
   "metadata": {},
   "source": [
    "<font color='#2D9596'> __Comentarios:__\n",
    "    \n",
    "> En ninguna región hay relación alguna entre las clasifiaciones y las ventas.\n",
    "> la clasificación por edad no es un factor determinante para el éxito de las ventas de los videojuegos. Puede haber otros factores, como el género del juego, la popularidad de la franquicia, entre otros, que influyan más en las decisiones de compra de los usuarios."
   ]
  },
  {
   "cell_type": "markdown",
   "metadata": {},
   "source": [
    "## <font color='#711DB0'>Prueba de Hipótesis<a id='5'></a>\n",
    "\n",
    "[Volver a Contenidos](#back)\n",
    "*     5.1 Las calificaciones promedio de los usuarios para las plataformas Xbox One y PC son las mismas.\n",
    "*     5.2 Las calificaciones promedio de los usuarios para los géneros de Acción y Deportes son diferentes.\n",
    "\n",
    "### <font color='#711DB0'>Las calificaciones promedio de los usuarios para las plataformas Xbox One y PC son las mismas.<a id='5.1'></a>\n",
    "    \n",
    "<font color='#711DB0'> __Comentario:__\n",
    "    <font color='#000000'>\n",
    ">__Filtrado de calificaciones mayores a 0:__ \n",
    ">    \n",
    "> La decisión de filtrar las calificaciones mayores a 0 se tomó para asegurarse de que solo se estén considerando calificaciones válidas. Calificaciones iguales a 0 podrían indicar datos faltantes o no válidos, por lo que filtrarlos ayuda a realizar un análisis más significativo.\n",
    ">    \n",
    ">    \n",
    ">__Filtrado para años después de 2013:__ \n",
    ">    \n",
    ">Se añadió un filtro para considerar solo los datos a partir del año 2013. Esto se hizo porque Xbox One fue lanzado en 2013, y queríamos comparar las calificaciones de usuarios de Xbox One y PC después de ese año.\n",
    ">\n",
    ">    \n",
    ">__Prueba t de Student para muestras independientes:__ \n",
    ">    \n",
    ">La prueba t de Student es una opción común para comparar las medias de dos grupos cuando se tienen muestras independientes. Se eligió ttest_ind de la biblioteca scipy.stats porque es una función ampliamente utilizada y ofrece una forma conveniente de realizar esta prueba estadística.\n",
    ">\n",
    "> __umbral alfa:__\n",
    "> p_value < 0.05 porque estamos dispuestos a aceptar un 5% de probabilidad de cometer un error de tipo I.\n",
    ">\n",
    "> En el contexto de comparar calificaciones promedio de usuarios entre Xbox One y PC, puede haber variabilidad diferente en las calificaciones de usuarios para ambas plataformas. Por lo tanto, se elige <font color='#711DB0'> __equal_var=False__ <font color='000000'>para hacer que la prueba de hipótesis sea más robusta ante la posibilidad de varianzas desiguales.\n",
    "        \n",
    "***\n",
    "                \n",
    "><font color='#711DB0'>__Hipótesis Nula (H<sub>0 </sub>):__\n",
    "> <font color='000000'>\n",
    ">Las calificaciones promedio de usuarios para las plataformas Xbox One y PC son iguales.\n",
    ">\n",
    "><font color='#711DB0'>__Hipótesis Alternativa (H<sub>1 </sub>):__\n",
    "><font color='000000'>\n",
    ">Las calificaciones promedio de usuarios para las plataformas Xbox One y PC no son iguales.               "
   ]
  },
  {
   "cell_type": "code",
   "execution_count": 44,
   "metadata": {
    "scrolled": true
   },
   "outputs": [
    {
     "name": "stdout",
     "output_type": "stream",
     "text": [
      "T-Statistic: 1.45192815744488\n",
      "P-Value: 0.14759594013430463\n",
      "\n",
      "No hay evidencia para rechazar la hipótesis nula. Las calificaciones promedio de usuarios son iguales.\n"
     ]
    }
   ],
   "source": [
    "# Retomando el Data Frame de - 2.5  -  games\n",
    "\n",
    "# Filtrar las calificaciones de usuario para Xbox One y PC (mayores a 0 y después de 2013)\n",
    "user_scores_xbox = games[\n",
    "                         (games['platform'] == 'XOne') \n",
    "                       & (games['user_score'] > 0) \n",
    "                       & (games['year_of_release'] >= 2013)\n",
    "    \n",
    "                        ]['user_score']\n",
    "\n",
    "\n",
    "user_scores_pc = games[\n",
    "                         (games['platform'] == 'PC') \n",
    "                       & (games['user_score'] > 0) \n",
    "                       & (games['year_of_release'] >= 2013)\n",
    "                      \n",
    "                      ]['user_score']\n",
    "\n",
    "\n",
    "\n",
    "\n",
    "# Realizar la prueba t de Student para muestras independientes\n",
    "t_statistic, p_value = ttest_ind(\n",
    "                                 user_scores_xbox, \n",
    "                                 user_scores_pc, \n",
    "                                 equal_var=False\n",
    "                                )\n",
    "\n",
    "# Imprimir el resultado de la prueba\n",
    "print(f'T-Statistic: {t_statistic}')\n",
    "print(f'P-Value: {p_value}')\n",
    "print()\n",
    "\n",
    "# Comparar el p-valor con un nivel de significancia (por ejemplo, 0.05)\n",
    "if p_value < 0.05:\n",
    "    print(\"Hay evidencia para rechazar la hipótesis nula. Las calificaciones promedio de usuarios NO son iguales.\")\n",
    "else:\n",
    "    print(\"No hay evidencia para rechazar la hipótesis nula. Las calificaciones promedio de usuarios son iguales.\")\n",
    "\n",
    "\n"
   ]
  },
  {
   "cell_type": "markdown",
   "metadata": {},
   "source": [
    "><font color='#711DB0'>__Comentario:__\n",
    "><font color='#000000'>\n",
    ">    \n",
    ">Las calificaciones promedio de los usuarios para XboxOne y PC son consideradas como __iguales__ según los resultados de la prueba de hipótesis."
   ]
  },
  {
   "cell_type": "markdown",
   "metadata": {},
   "source": [
    "### <font color='#711DB0'>Las calificaciones promedio de los usuarios para los géneros de Acción y Deportes son diferentes.<a id='5.2'></a>\n",
    "\n",
    "[Volver a Contenidos](#back)\n",
    "\n",
    "<font color='#711DB0'> __Comentario:__\n",
    "<font color='#000000'>\n",
    ">__Filtrado de calificaciones mayores a 0__ \n",
    ">\n",
    ">    \n",
    ">__Prueba t de Student para muestras independientes__ \n",
    ">\n",
    "> __umbral alfa: 0.05__\n",
    ">\n",
    "***\n",
    ">\n",
    "><font color='#711DB0'>__Hipótesis Nula (H<sub>0 </sub>):__\n",
    "> <font color='000000'>\n",
    ">Las calificaciones promedio de usuarios para los géneros Acción y Deportes son iguales.\n",
    ">\n",
    "><font color='#711DB0'>__Hipótesis Alternativa (H<sub>1 </sub>):__\n",
    "> <font color='000000'>\n",
    ">Las calificaciones promedio de usuarios para los géneros Acción y Deportes no son iguales.    \n",
    "    \n",
    "    "
   ]
  },
  {
   "cell_type": "code",
   "execution_count": 45,
   "metadata": {},
   "outputs": [
    {
     "name": "stdout",
     "output_type": "stream",
     "text": [
      "T-Statistic: 1.57746791633354\n",
      "P-Value: 0.11483818791498286\n",
      "\n",
      "No hay evidencia para rechazar la hipótesis nula. Las calificaciones promedio de usuarios SON iguales.\n"
     ]
    }
   ],
   "source": [
    "# Filtrar las calificaciones de usuario para juegos de Acción y Deportes\n",
    "action_scores = games[\n",
    "                      (games['genre'] == 'Action') \n",
    "                    & (games['user_score'] > 0) \n",
    "    \n",
    "                     ]['user_score']\n",
    "\n",
    "\n",
    "sports_scores = games[\n",
    "                     (games['genre'] == 'Sports') \n",
    "                   & (games['user_score'] > 0) \n",
    "                      \n",
    "                     ]['user_score']\n",
    "\n",
    "\n",
    "# Realizar la prueba t de Student para muestras independientes\n",
    "t_statistic, p_value = ttest_ind(\n",
    "                                 action_scores, \n",
    "                                 sports_scores, \n",
    "                                 equal_var=False\n",
    "                                )\n",
    "\n",
    "# Imprimir el resultado de la prueba\n",
    "print(f'T-Statistic: {t_statistic}')\n",
    "print(f'P-Value: {p_value}')\n",
    "print()\n",
    "\n",
    "# Comparar el p-valor con un nivel de significancia (por ejemplo, 0.05)\n",
    "if p_value < 0.05:\n",
    "    print(\"Hay evidencia para rechazar la hipótesis nula. Las calificaciones promedio de usuarios NO son iguales.\")\n",
    "else:\n",
    "    print(\"No hay evidencia para rechazar la hipótesis nula. Las calificaciones promedio de usuarios SON iguales.\")\n",
    "\n",
    "\n"
   ]
  },
  {
   "cell_type": "markdown",
   "metadata": {},
   "source": [
    "><font color='#711DB0'>__Comentario:__\n",
    "><font color='#000000'>\n",
    ">    \n",
    ">Las calificaciones promedio de usuarios para los géneros Acción y Deportes __NO__ son significativamente diferentes según la prueba de hipótesis realizada."
   ]
  },
  {
   "cell_type": "markdown",
   "metadata": {},
   "source": [
    "## <font color='#000000'>Conclusiones<a id='end'></a>\n",
    "[Volver a Contenidos](#back)"
   ]
  },
  {
   "cell_type": "markdown",
   "metadata": {},
   "source": [
    "<font color='#000000'>\n",
    "    \n",
    "__Parte 3 Highlights:__\n",
    "\n",
    ">__3.1 Juegos que fueron lanzados en diferentes años:__\n",
    ">    \n",
    ">Hubo una mayor cantidad de títulos lanzados entre 2006 y 2012, coincidiendo con la séptima generación de consolas.\n",
    ">    \n",
    ">__3.2 Variación de las ventas:__\n",
    ">    \n",
    "> Cambio generacional y vida útil de plataformas:\n",
    "Se observa un cambio generacional cada 7 años, y cada plataforma tiene una vida útil de aproximadamente 10 años.\n",
    ">\n",
    ">__3.3 Construcción de un modelo para el 2017:__\n",
    ">    \n",
    ">PS3 y Xbox 360 como plataformas líderes hasta 2016:\n",
    ">>__3.3.1 ¿Qué plataformas son líderes en ventas?:__\n",
    ">>    \n",
    ">>    En ventas totales, la diferencia entre Playstation y Xbox One es de 2 a 1, pero ambas plataformas experimentan ventas promedio similares.\n",
    ">>\n",
    ">>__3.3.4 Gráfico de dispersión y correlación entre las reseñas y las ventas:__\n",
    ">>    \n",
    ">>Existe una influencia moderada de las puntuaciones de críticos en las ventas, mientras que las puntuaciones de usuarios tienen una correlación más débil con las ventas.\n",
    "\n",
    "***\n",
    "    \n",
    "<font color='#86A789'>__3.1 Juegos que fueron lanzados en diferetes años__\n",
    "<font color='#000000'>    \n",
    "    \n",
    ">En ventas totales, la diferencia entre Playstation y Xbox es de 2 a 1, pero ambas plataformas experimentan ventas promedio similares.\n",
    ">\n",
    ">PS3 se identifica como la plataforma líder hasta 2016, según la base de datos.\n",
    ">\n",
    ">Se analizaron las ventas anuales de consolas (PS3, Xbox 360, 3DS, PS4 y Xbox One) desde 2010, y se observaron tasas de crecimiento anual.\n",
    "Aunque las ventas iban disminuyendo año con año, se notó un crecimiento anual positivo para PS3, PS4 y Xbox One, indicando un rendimiento relativamente sólido en comparación con las otras plataformas.   \n",
    "> \n",
    ">\n",
    ">Las plataformas con mayores ventas fueron PS2, Xbox 360, PS3, Wii, Nintendo DS y PS one.\n",
    "Hubo una mayor cantidad de títulos lanzados entre 2006 y 2012, coincidiendo con la séptima generación de consolas.    \n",
    "\n",
    "***\n",
    "[Volver a Contenidos](#back)    \n",
    "<font color='#86A789'>__Pico de Actividad entre 2006 y 2012:__\n",
    "<font color='#000000'>\n",
    ">Se observa un pico significativo en la cantidad de títulos lanzados entre los años 2006 y 2012.\n",
    "Este período coincide con la séptima generación de consolas, lo que sugiere un aumento en la actividad de desarrollo y lanzamiento de juegos durante esta época.\n",
    "\n",
    "***\n",
    "    \n",
    "<font color='#86A789'>__Séptima Generación de Consolas:__\n",
    "><font color='#000000'>La concentración de lanzamientos durante estos años puede estar relacionada con el auge de la séptima generación de consolas, que incluyó plataformas como Xbox 360, PlayStation 3 y Wii.\n",
    "Es probable que las oportunidades ofrecidas por estas consolas hayan atraído a desarrolladores y editores a lanzar una amplia variedad de títulos.\n",
    ">\n",
    ">\n",
    "\n",
    "<font color='#86A789'>__Cambio en Tendencias de Lanzamiento:__\n",
    "><font color='#000000'>El análisis destaca un período específico de actividad intensa, pero también puede ser útil examinar las razones detrás de las fluctuaciones en los lanzamientos a lo largo de los años.\n",
    ">Se podrían explorar factores económicos, avances tecnológicos o cambios en las preferencias del mercado que influyeron en las estrategias de lanzamiento de los desarrolladores.\n",
    ">\n",
    "\n",
    "<font color='#86A789'>__Importancia del Contexto Histórico:__\n",
    "><font color='#000000'>El análisis demuestra la importancia de considerar el contexto histórico al examinar patrones de lanzamiento de juegos.\n",
    ">Las tendencias en la industria del juego están fuertemente influenciadas por factores externos como avances tecnológicos, cambios en las preferencias de los consumidores y la introducción de nuevas consolas.\n",
    ">\n",
    "\n",
    "<font color='#86A789'>__Lecciones para la Planificación Futura:__\n",
    "><font color='#000000'>Los datos ofrecen información valiosa para desarrolladores y empresas que planean lanzar juegos en el futuro.\n",
    "La comprensión de patrones históricos puede ayudar a prever posibles picos de actividad y ajustar estrategias de lanzamiento en consecuencia.\n",
    "\n",
    "***\n",
    "    \n",
    "<font color='#E0AED0'>__3.2 Variación en las Ventas__\n",
    "\n",
    "<font color='#E0AED0'>__Dominio de Marcas Específicas:__\n",
    "><font color='#000000'>Las ventas muestran un claro dominio de Playstation, Xbox y Nintendo en ciertas plataformas, destacando especialmente a PS2, Xbox360, PS3, Wii, Nintendo DS y PS one.\n",
    "Este patrón puede sugerir la popularidad y aceptación masiva de estas plataformas entre los consumidores.\n",
    ">\n",
    "\n",
    "<font color='#E0AED0'>__Importancia de la Diversidad de Plataformas:__\n",
    "><font color='#000000'>Aunque algunas plataformas lideran en ventas, también es evidente la relevancia de tener una oferta diversa de plataformas exitosas.\n",
    ">La presencia de diferentes plataformas exitosas indica una variedad de preferencias entre los jugadores y la necesidad de adaptarse a múltiples segmentos del mercado.\n",
    ">\n",
    "\n",
    "<font color='#E0AED0'>__Longevidad y Éxito Continuado:__\n",
    "><font color='#000000'>La presencia de PS2, PS3 y Wii sugiere que algunas plataformas han mantenido un éxito sostenido durante períodos significativos de tiempo.\n",
    ">Este éxito prolongado puede deberse a factores como una sólida biblioteca de juegos, innovaciones tecnológicas y estrategias de marketing efectivas.\n",
    ">\n",
    "\n",
    "<font color='#E0AED0'>__Relevancia de las Consolas Portátiles:__\n",
    "><font color='#000000'>La inclusión de Nintendo DS destaca la importancia de las consolas portátiles en el panorama de ventas.\n",
    "Las consolas portátiles a menudo tienen una base de usuarios leal y pueden ser fundamentales para expandir la presencia de una marca en diferentes situaciones de juego.\n",
    ">\n",
    "<font color='#E0AED0'>__Tendencias en la Industria:__\n",
    "><font color='#000000'>El análisis de las ventas proporciona una instantánea de las preferencias del consumidor a lo largo del tiempo.\n",
    "Puede ser beneficioso para los desarrolladores y editores adaptar estrategias de desarrollo y marketing según las plataformas que históricamente han tenido un rendimiento fuerte en términos de ventas.\n",
    ">\n",
    "\n",
    "<font color='#E0AED0'>__Reflejo de la Evolución Tecnológica:__\n",
    "><font color='#000000'>La variación en las ventas también puede reflejar la evolución tecnológica en la industria de los videojuegos, con el surgimiento de nuevas generaciones de consolas que capturan la atención del público.\n",
    ">\n",
    "***\n",
    "[Volver a Contenidos](#back)    \n",
    ">    \n",
    "><font color='#E7BCDE'>__3.2.2 ¿Cuánto tardan generalmente las nuevas plataformas en aparecer y las antiguas en desaparecer?__\n",
    ">\n",
    "><font color='#E7BCDE'>__Ciclos de Generación y Vida Útil de las Plataformas:__\n",
    ">><font color='#000000'>La observación de un cambio generacional cada 7 años destaca la consistencia en la introducción de nuevas tecnologías y consolas en la industria.\n",
    ">>La vida útil de las plataformas de 10 años sugiere que las últimas etapas de una generación pueden superponerse con las primeras etapas de la siguiente, creando una transición gradual.\n",
    ">>\n",
    "><font color='#E7BCDE'>__Planificación Estratégica a Largo Plazo:__\n",
    ">><font color='#000000'>Para desarrolladores y fabricantes de consolas, entender y planificar en torno a estos ciclos de 7 y 10 años es crucial para el éxito a largo plazo.\n",
    ">>Estrategias de desarrollo, marketing y soporte deben adaptarse a estos ciclos para aprovechar al máximo cada generación.\n",
    ">>\n",
    ">>    \n",
    "><font color='#E7BCDE'>__Adaptación a la Evolución Tecnológica:__\n",
    ">><font color='#000000'>La información sobre la vida útil de las plataformas sugiere la importancia de mantenerse al tanto de las tendencias tecnológicas y la evolución del mercado.\n",
    ">>La adaptabilidad para incorporar nuevas tecnologías y conceptos es esencial para mantener la relevancia a lo largo de los ciclos de generación.\n",
    ">    \n",
    ">    \n",
    "><font color='#E7BCDE'>__Fases de Transición y Superposición:__\n",
    ">><font color='#000000'>Durante las transiciones de generación, donde una plataforma está llegando al final de su vida útil y otra está surgiendo, puede haber oportunidades únicas y desafíos para la industria.\n",
    ">>La superposición de plataformas puede requerir estrategias específicas para gestionar la transición de los consumidores entre generaciones.\n",
    ">>    \n",
    "<font color='#E7BCDE'>__Impacto en la Estrategia de Lanzamiento de Juegos:__\n",
    ">><font color='#000000'>La información sobre ciclos y vida útil de las plataformas influye en la estrategia de lanzamiento de juegos, ya que los desarrolladores deben considerar el tiempo de desarrollo y el período en el que una plataforma específica estará en su apogeo.\n",
    ">>\n",
    "><font color='#E7BCDE'>__Innovación como Motor de Cambio Generacional:__\n",
    ">><font color='#000000'>La observación de ciclos de cambio generacional subraya la importancia de la innovación continua como un factor clave en la introducción exitosa de nuevas generaciones de consolas.\n",
    "\n",
    "***\n",
    "    \n",
    "<font color='#29ADB2'>__3.3 Construcción de un modelo para el 2017__\n",
    "    \n",
    "__Tendencias de Crecimiento y Declive:__\n",
    "<font color='#000000'>    \n",
    ">A pesar de la disminución general de las ventas año tras año, el análisis anual del crecimiento proporciona información más detallada sobre el rendimiento de cada consola.\n",
    ">Mientras que Xbox 360 y 3DS experimentaron tasas de crecimiento negativas, PS3, PS4 y Xbox One mostraron tasas positivas, indicando un rendimiento más robusto.\n",
    ">\n",
    "><font color='#29ADB2'>__3.3.2 ¿Cuáles crecen y cuáles se reducen?__\n",
    ">    \n",
    ">__Éxito Sostenido de PS3,PS4 y Xbox One:__\n",
    ">><font color='#000000'>El crecimiento positivo en las ventas de PS3,PS4 y Xbox One sugiere que estas consolas lograron mantener o incluso aumentar su popularidad a lo largo del tiempo.\n",
    ">>Puede atribuirse a factores como una sólida biblioteca de juegos, características innovadoras o estrategias de marketing efectivas.\n",
    ">>\n",
    "><font color='#29ADB2'>__Liderazgo Continuo de PS3:__\n",
    ">><font color='#000000'>Hasta el año 2016, PS3 se consolida como la plataforma líder en ventas, mostrando un crecimiento anual positivo.\n",
    ">>Este liderazgo puede atribuirse a una combinación de una sólida biblioteca de juegos, características técnicas avanzadas y una exitosa estrategia de marketing.\n",
    ">>\n",
    "><font color='#29ADB2'>__Xbox One como Competidor Fuerte:__\n",
    ">><font color='#000000'>Con una tasa de crecimiento anual positiva, Xbox One se presenta como un competidor fuerte en el mercado de consolas hasta 2016.\n",
    ">>El rendimiento positivo puede indicar la adopción favorable de los consumidores y estrategias efectivas por parte de Microsoft.\n",
    ">\n",
    ">    \n",
    "***\n",
    "[Volver a Contenidos](#back)\n",
    "<font color='#CE5A67'>__3.3.3 ¿Son significativas las diferencias en las ventas? ¿Qué sucede con las ventas promedio en varias plataformas?   (Diagrama de caja)__  \n",
    "    \n",
    "    \n",
    "<font color='#CE5A67'>__Diferencias en Ventas Totales y Promedio:__\n",
    "><font color='#000000'>Aunque la diferencia en las ventas totales entre PlayStation 4 y XboxOne es considerable (con una proporción de 2 a 1), y la similitud en las ventas promedio de Playstation 3 y Xbox 360 sugiere que, en términos generales, los juegos en ambas plataformas tienen un rendimiento similar en términos de unidades vendidas.\n",
    "    \n",
    "<font color='#CE5A67'>__Compartir de Títulos entre Plataformas:__\n",
    "><font color='#000000'>La similitud en las ventas promedio podría deberse a la presencia de juegos compartidos entre PlayStation y Xbox. Juegos multiplataforma pueden contribuir de manera similar a las ventas de ambas consolas.\n",
    ">    \n",
    "    \n",
    "<font color='#CE5A67'>__Influencia de Exclusivos en Ventas Totales:__\n",
    "><font color='#000000'>La presencia de valores atípicos en las ventas totales podría estar relacionada con juegos exclusivos de cada plataforma. Estos títulos exclusivos pueden tener un impacto significativo en las ventas totales y explicar la brecha entre PlayStation y Xbox.\n",
    ">    \n",
    "    \n",
    "<font color='#CE5A67'>__Enfoque Exclusivo de 3DS:__\n",
    "><font color='#000000'>La conclusión de que los juegos para la 3DS son en su mayoría exclusivos podría sugerir un enfoque más centrado en títulos exclusivos para esta plataforma. Esto puede ser una estrategia consciente para diferenciarse en el mercado de consolas portátiles.\n",
    ">    \n",
    "    \n",
    "<font color='#CE5A67'>__Importancia de Exclusivos en la Competencia:__\n",
    "><font color='#000000'>La presencia de valores atípicos relacionados con exclusivos resalta la importancia de estos juegos en la competencia entre plataformas. Títulos exclusivos pueden ser un factor clave para atraer y retener a los jugadores.\n",
    ">    \n",
    "    \n",
    "<font color='#CE5A67'>__Consideraciones Estratégicas:__\n",
    "><font color='#000000'>Para las empresas de videojuegos, estas conclusiones sugieren que la estrategia de desarrollo y lanzamiento de juegos exclusivos puede tener un impacto significativo en el rendimiento general de una plataforma.    \n",
    ">    \n",
    "***\n",
    "    \n",
    "<font color='#AD8E70'>__3.3.4 Gráfico de dispersión y correlación entre las reseñas y las ventas:__\n",
    "    \n",
    "__Influencia Moderada de Puntuaciones de Críticos en Ventas:__\n",
    "><font color='#000000'>La correlación entre puntuaciones de críticos y ventas es moderadamente positiva, aproximadamente 0.3.\n",
    ">    \n",
    "    \n",
    "<font color='#AD8E70'>__Débil Correlación entre Puntuaciones de Usuarios y Ventas:__\n",
    "><font color='#000000'>La correlación entre las puntuaciones de usuarios y las ventas es cercana a cero, lo que sugiere una falta de correlación significativa.\n",
    "La correlación entre puntuaciones de usuarios y ventas es cercana a cero, alrededor de 0.03.\n",
    ">   \n",
    "> A partir de estos resultados, no podemos afirmar que las puntuaciones de críticos o usuarios tengan una correlación fuerte con las ventas de videojuegos.\n",
    "Se sugiere que otros factores o variables pueden influir significativamente en el rendimiento de las ventas de los videojuegos, y no se puede atribuir exclusivamente a las opiniones de críticos o usuarios.    \n",
    "    \n",
    "<font color='#AD8E70'>__Factores Adicionales en la Decisión de Compra:__\n",
    "><font color='#000000'>La débil correlación con las puntuaciones de usuarios sugiere que las decisiones de compra pueden estar influenciadas por otros factores, como el marketing, la popularidad de la franquicia o la recomendación personal, más que las opiniones de otros jugadores.\n",
    ">    \n",
    "***\n",
    "[Volver a Contenidos](#back)\n",
    "    \n",
    "<font color='#5CB8E4'>__3.3.5 Ventas totales de juegos por cada plataforma y juegos compartidos__\n",
    "    \n",
    "__Popularidad de PlayStation:__\n",
    "><font color='#000000'>PlayStation (PS4) lidera en términos de la cantidad total de juegos lanzados durante el tiempo de vida de la plataforma con 392 títulos.\n",
    ">La plataforma tiene la mayor cantidad de juegos compartidos, lo que destaca su popularidad y la diversidad de títulos disponibles.\n",
    ">    \n",
    "   \n",
    "<font color='#5CB8E4'>__Concentración de Títulos Compartidos entre Xbox y PlayStation:__\n",
    "><font color='#000000'>La gran cantidad de juegos compartidos (217) entre Xbox y PlayStation sugiere una fuerte intersección en términos de títulos disponibles para ambas plataformas.\n",
    ">El hecho de que el 55.3% de los juegos de PS4 y el 87.8% de los juegos de Xbox One, y, por otro lado Xbox 360: 78.3% y PS3: 53.27%  sean compartidos indica una estrategia significativa de lanzamiento de títulos multiplataforma.\n",
    ">    \n",
    "    \n",
    "<font color='#5CB8E4'>__Estrategia Selectiva de Nintendo:__\n",
    "><font color='#000000'>\n",
    ">La baja proporción de juegos compartidos en 3DS (3.1%) resalta la preferencia de Nintendo por lanzar títulos exclusivos para sus consolas portátiles.\n",
    ">    \n",
    "    \n",
    "<font color='#5CB8E4'>__Competencia entre PlayStation y Xbox:__\n",
    "><font color='#000000'>La alta intersección de títulos entre Xbox y PlayStation, así como la cantidad total de títulos compartidos, sugiere una competencia significativa entre estas dos plataformas.\n",
    ">Los desarrolladores parecen estar enfocándose en lanzar títulos para ambas consolas, posiblemente para maximizar su alcance de audiencia.\n",
    "    \n",
    "    \n",
    "<font color='#5CB8E4'>__Estrategias Diferentes en el Mercado:__\n",
    "><font color='#000000'>La estrategia de lanzar títulos exclusivos de manera más selectiva por parte de Nintendo puede estar alineada con la diversificación del mercado y la creación de experiencias únicas para sus plataformas.\n",
    ">\n",
    "    \n",
    "***\n",
    "[Volver a Contenidos](#back)   \n",
    "<font color='#F8CB2E'>__3.3.6 Distribución general de los juegos por género.__\n",
    "\n",
    ">__XBOX y Playstation:__\n",
    ">\n",
    ">__Preferencia por Shooter:__\n",
    ">><font color='#000000'>\n",
    ">>Xbox One y PS4: Preferencia por juegos de disparos.\n",
    ">>\n",
    ">>Xbox 360 y PS3: También prefieren juegos de disparos.\n",
    ">>\n",
    ">>Nintendo: Inclinación hacia juegos de rol y acción en lugar de shooters.\n",
    ">    \n",
    "><font color='#F8CB2E'>__Énfasis en Action:__\n",
    ">><font color='#000000'>Todas las plataformas comparten la preferencia por juegos de acción.\n",
    ">   \n",
    ">    \n",
    "><font color='#F8CB2E'>__Interés Común en Sports y Role-Playing:__\n",
    ">><font color='#000000'>La preferencia por juegos de deportes (Sports) en XBOX y PS4 indica una audiencia interesada en experiencias competitivas y recreativas. Además, el interés compartido en juegos de rol (Role-Playing) sugiere una apreciación por narrativas más inmersivas y extensas.\n",
    ">    \n",
    ">    \n",
    "><font color='#F8CB2E'>__Apreciación por Racing:__\n",
    ">><font color='#000000'>La categoría de juegos de carreras (Racing) también es apreciada en ambas plataformas, lo que refleja el interés en experiencias de conducción y competición.\n",
    ">\n",
    ">\n",
    "><font color='#F8CB2E'>__Apreciación por Deportes:__\n",
    ">><font color='#000000'>Xbox y Playstation: Inclinación hacia juegos de deportes.\n",
    ">>\n",
    ">>Nintendo: Prefiere juegos de plataformas en lugar de deportes.   \n",
    ">    \n",
    "><font color='#F8CB2E'>__Nintendo:__\n",
    ">\n",
    ">__Preferencia por Action y Platform:__\n",
    ">><font color='#000000'>Nintendo muestra una inclinación hacia juegos de acción (Action) y Rol (Rol-Playing). Esto sugiere una estrategia diferente, enfocándose en experiencias de juego más orientadas a la acción y plataformas.\n",
    ">    \n",
    ">    \n",
    "><font color='#F8CB2E'>__Interés en Fighting:__\n",
    ">><font color='#000000'>La preferencia por juegos de lucha (Fighting) en Nintendo indica una audiencia que valora la competencia mano a mano y la destreza en los combates.\n",
    ">   \n",
    ">    \n",
    "><font color='#F8CB2E'>__Roles y Racing en Común:__\n",
    ">><font color='#000000'>Al igual que XBOX y PS4, Nintendo comparte el interés por juegos de rol (Role-Playing) y juegos de carreras (Racing), lo que sugiere que estos géneros tienen un atractivo generalizado.\n",
    ">    \n",
    "    \n",
    "<font color='#F8CB2E'>__Conclusiones Generales:__\n",
    "\n",
    "><font color='#F8CB2E'>__Similitudes y Diferencias:__\n",
    ">><font color='#000000'>Aunque hay similitudes en las preferencias de géneros entre XBOX y Playstation, también hay diferencias notables, como la preferencia por juegos de deportes en XBOX y Playstation y el énfasis en la acción en ambas plataformas.\n",
    ">>Nintendo adopta una estrategia diferente al centrarse en juegos de Rol y acción, destacando su enfoque único en comparación con las otras dos plataformas.\n",
    ">   \n",
    ">    \n",
    "><font color='#F8CB2E'>__Diversificación de Oferta:__\n",
    ">><font color='#000000'>Las preferencias de géneros reflejan la estrategia de cada plataforma para diversificar su oferta y satisfacer las preferencias específicas de su audiencia.\n",
    ">    \n",
    ">    \n",
    "><font color='#F8CB2E'>__Oportunidades para Desarrolladores:__\n",
    ">><font color='#000000'>Los desarrolladores pueden considerar estas preferencias al crear títulos multiplataforma o exclusivos, adaptándose a las tendencias específicas de cada plataforma.\n",
    "    \n",
    "    \n",
    "***\n",
    "[Volver a Contenidos](#back)  \n",
    "<font color='#2EB086'>__Parte 4 Perfil del usuario por cada región__\n",
    "    \n",
    "__Diversidad en Preferencias Regionales:__\n",
    "><font color='#000000'>La investigación revela una diversidad significativa en las preferencias regionales en la industria de videojuegos. Mientras que hay consistencia en algunas áreas, como >Norteamérica y la Unión Europea, Japón presenta preferencias únicas que reflejan diferencias culturales.\n",
    "    \n",
    "<font color='#2EB086'>__Competencia Intensa en Norte América:__\n",
    "><font color='#000000'>Norte América se destaca como el mercado más competitivo, con una intensa competencia entre Xbox y PlayStation. La preferencia por Xbox en esta región es notable y sugiere estrategias de marketing y lanzamiento específicas.\n",
    ">    \n",
    "    \n",
    "<font color='#2EB086'>__Impacto de las Preferencias Culturales:__\n",
    "><font color='#000000'>Las preferencias en Japón, particularmente por juegos de rol y acción, destacan la influencia de las preferencias culturales en las elecciones de videojuegos. Las estrategias de marketing deben adaptarse a estas diferencias culturales.\n",
    ">    \n",
    "    \n",
    "<font color='#2EB086'>__Consistencia en Preferencias Globales:__\n",
    "><font color='#000000'>La consistencia en las preferencias de géneros entre la Unión Europea, América del Norte y Otras Regiones sugiere que hay patrones globales de consumo de videojuegos. Géneros como Action y Shooter son populares en múltiples regiones.\n",
    ">    \n",
    "    \n",
    "<font color='#2EB086'>__Importancia Estratégica de PlayStation:__\n",
    "><font color='#000000'>La dominancia continua de PlayStation en la Unión Europea y Otras Regiones, resalta la importancia estratégica de esta plataforma a nivel global. Desarrolladores y editores deben considerar esta popularidad al planificar lanzamientos.\n",
    ">    \n",
    "    \n",
    "<font color='#2EB086'>__Adaptación Estratégica a Preferencias Locales:__\n",
    "><font color='#000000'>Reconocer las preferencias regionales es clave para el éxito en el mercado de videojuegos. Adaptar estrategias de lanzamiento y marketing según las preferencias específicas de cada región puede aumentar la receptividad del público.\n",
    ">    \n",
    "    \n",
    "<font color='#2EB086'>__Diversidad en Impacto de Clasificaciones ESRB:__\n",
    "><font color='#000000'>La falta de relación entre las clasificaciones ESRB y las ventas en todas las regiones sugiere que la clasificación por edad no es un factor determinante para el éxito de las ventas de los videojuegos. Otros factores, como el género del juego y la popularidad de la franquicia, pueden ser más influyentes.\n",
    ">    \n",
    "    \n",
    "<font color='#2EB086'>__Oportunidades de Desarrollo Segmentadas:__\n",
    "><font color='#000000'>Considerar la popularidad de ciertos géneros en diferentes regiones ofrece oportunidades para el desarrollo de nuevos juegos o adaptaciones que resuenen fuertemente con las audiencias locales. La personalización de contenido puede ser clave para maximizar el atractivo.\n",
    "    \n",
    "***\n",
    " \n",
    "<font color='#FF5959'>__Parte 5 Prueba de hipótesis__\n",
    "\n",
    "<font color='#FF5959'>__5.1 Calificaciones Promedio de Usuarios entre Xbox One y PC:__\n",
    "\n",
    "Resultado: <font color='#000000'>\n",
    ">T-Statistic: 1.57746791633354\n",
    ">    \n",
    ">P-Value: 0.11483818791498286\n",
    "  \n",
    "<font color='#FF5959'>__Conclusión:__ <font color='#000000'>No hay evidencia para rechazar la hipótesis nula. Las calificaciones promedio de usuarios para Xbox One y PC son iguales.\n",
    "    \n",
    "    \n",
    "<font color='#FF5959'>__Implicaciones:__<font color='#000000'> No existe una diferencia significativa en las calificaciones promedio de usuarios entre Xbox One y PC después de 2013. Esto podría indicar preferencias o experiencias similares de los usuarios en estas plataformas.\n",
    "\n",
    "\n",
    "<font color='#FF5959'>__5.2 Calificaciones Promedio de Usuarios entre los Géneros de Acción y Deportes:__\n",
    "\n",
    "Resultado: <font color='#000000'>\n",
    ">T-Statistic: 1.57746791633354\n",
    ">    \n",
    ">P-Value: 0.11483818791498286\n",
    "    \n",
    "<font color='#FF5959'>__Conclusión:__ <font color='#000000'> NO hay evidencia para rechazar la hipótesis nula. Las calificaciones promedio de usuarios para los géneros de Acción y Deportes son iguales.\n",
    "    \n",
    "<font color='#FF5959'>__Implicaciones:__ <font color='#000000'>No hay una diferencia significativa en las calificaciones promedio de usuarios entre los géneros de Acción y Deportes. Esto sugiere que, en términos de calificaciones de usuarios, ambos géneros son percibidos de manera diferente.\n",
    "\n",
    "[Volver a Contenidos](#back)   "
   ]
  },
  {
   "cell_type": "code",
   "execution_count": null,
   "metadata": {},
   "outputs": [],
   "source": []
  }
 ],
 "metadata": {
  "kernelspec": {
   "display_name": "Python 3 (ipykernel)",
   "language": "python",
   "name": "python3"
  },
  "language_info": {
   "codemirror_mode": {
    "name": "ipython",
    "version": 3
   },
   "file_extension": ".py",
   "mimetype": "text/x-python",
   "name": "python",
   "nbconvert_exporter": "python",
   "pygments_lexer": "ipython3",
   "version": "3.11.5"
  },
  "toc": {
   "base_numbering": 1,
   "nav_menu": {},
   "number_sections": true,
   "sideBar": true,
   "skip_h1_title": true,
   "title_cell": "Table of Contents",
   "title_sidebar": "Contents",
   "toc_cell": false,
   "toc_position": {
    "height": "calc(100% - 180px)",
    "left": "10px",
    "top": "150px",
    "width": "165px"
   },
   "toc_section_display": true,
   "toc_window_display": true
  }
 },
 "nbformat": 4,
 "nbformat_minor": 2
}
